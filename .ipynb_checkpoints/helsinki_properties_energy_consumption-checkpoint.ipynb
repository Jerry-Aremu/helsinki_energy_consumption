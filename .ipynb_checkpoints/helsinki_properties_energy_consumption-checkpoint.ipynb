{
 "cells": [
  {
   "cell_type": "markdown",
   "id": "51eac843",
   "metadata": {},
   "source": [
    "## Energy Consumption Analysis"
   ]
  },
  {
   "cell_type": "code",
   "execution_count": 1,
   "id": "db463882",
   "metadata": {},
   "outputs": [],
   "source": [
    "import requests\n",
    "import warnings\n",
    "import pandas as pd\n",
    "import json\n",
    "import seaborn as sns\n",
    "import matplotlib.pyplot as plt\n",
    "import datetime as datetime"
   ]
  },
  {
   "cell_type": "code",
   "execution_count": 2,
   "id": "ec993516",
   "metadata": {},
   "outputs": [
    {
     "data": {
      "text/html": [
       "<style>.container { width:100% !important; }</style>"
      ],
      "text/plain": [
       "<IPython.core.display.HTML object>"
      ]
     },
     "metadata": {},
     "output_type": "display_data"
    }
   ],
   "source": [
    "warnings.simplefilter(action='ignore', category=RuntimeWarning)\n",
    "warnings.simplefilter(action='ignore', category=FutureWarning)\n",
    "warnings.simplefilter(action='ignore', category=UserWarning)\n",
    "warnings.simplefilter(action='ignore', category=DeprecationWarning)\n",
    "pd.set_option(\"display.max_columns\", None)\n",
    "pd.set_option(\"display.max_rows\", None)\n",
    "pd.options.display.max_colwidth = None\n",
    "pd.set_option(\"display.float_format\", lambda x: '%.2f' % x)\n",
    "from IPython.display import display, HTML\n",
    "display(HTML(\"<style>.container { width:100% !important; }</style>\"))"
   ]
  },
  {
   "cell_type": "markdown",
   "id": "228e59c0",
   "metadata": {},
   "source": [
    "## function to get list of properties"
   ]
  },
  {
   "cell_type": "code",
   "execution_count": 209,
   "id": "cf467423",
   "metadata": {},
   "outputs": [],
   "source": [
    "def get_list_of_properties(api_url):\n",
    "    property_list = requests.get(api_url)\n",
    "    if property_list.status_code !=200:\n",
    "        print(f\"request error:{property_list.status_code}\")\n",
    "    else:\n",
    "        property_list_data = property_list.text\n",
    "        propt_list_df = pd.read_json(property_list_data)\n",
    "        return propt_list_df      "
   ]
  },
  {
   "cell_type": "markdown",
   "id": "10d0c35d",
   "metadata": {},
   "source": [
    "## function to get hourly, daily or monthly data"
   ]
  },
  {
   "cell_type": "code",
   "execution_count": 219,
   "id": "ae43f972",
   "metadata": {},
   "outputs": [],
   "source": [
    "def get_daily_consumption(\n",
    "    record=None,\n",
    "    search_string=None,\n",
    "    reporting_group=None,\n",
    "    start_time=None,\n",
    "    end_time=None,\n",
    "    Normalization=True,\n",
    "    version=None\n",
    "):\n",
    "    # get a dictionary of all possible arguement\n",
    "    all_args = locals()\n",
    "    \n",
    "    #fiter out the set arguements\n",
    "    set_args = {k: v for k,v in all_args.items() if v is not None and k !='Normalization'}# and k != 'Normalization'\n",
    "    \n",
    "    # get a list of all values from the dict \"set_args\"\n",
    "    set_args_list = list(set_args.values())\n",
    "    \n",
    "    if 'PropertyCode' in list(set_args.values()):\n",
    "        #construct the url for API access\n",
    "        url = 'https://helsinki-openapi.nuuka.cloud/api/v{}/EnergyData/Daily/ListByProperty?Record={}&SearchString={}&ReportingGroup={}&StartTime={}&EndTime={}'\n",
    "        a1,b1,c1,d1,e1,f1 = set_args_list[5],set_args_list[0],set_args_list[1],set_args_list[2],set_args_list[3],set_args_list[4]\n",
    "        access_link1 = url.format(a1,b1,c1,d1,e1,f1)\n",
    "        response1 = requests.get(access_link1)\n",
    "        data1 = response1.text\n",
    "        data_df1 = pd.read_json(data1)\n",
    "        return data_df1\n",
    "        \n",
    "    else:\n",
    "        \n",
    "        #construct the url for API access\n",
    "        record_1 = set_args_list[1].replace(\" \",\"%20\")\n",
    "        url = 'https://helsinki-openapi.nuuka.cloud/api/v{}/EnergyData/Daily/ListByProperty?Record={}&SearchString={}&ReportingGroup={}&StartTime={}&EndTime={}'\n",
    "        a2,b2,c2,d2,e2,f2 = set_args_list[5],set_args_list[0],record_1,set_args_list[2],set_args_list[3],set_args_list[4]\n",
    "        access_link2 = url.format(a2,b2,c2,d2,e2,f2)\n",
    "        response2 = requests.get(access_link2)\n",
    "        data2 = response2.text\n",
    "        data_df2 = pd.read_json(data2)\n",
    "        return data_df2\n",
    "    \n",
    "def get_monthly_consumption(\n",
    "    record=None,\n",
    "    search_string=None,\n",
    "    reporting_group=None,\n",
    "    start_time=None,\n",
    "    end_time=None,\n",
    "    Normalization=True,\n",
    "    version=None\n",
    "):\n",
    "    # get a dictionary of all possible arguement\n",
    "    all_args = locals()\n",
    "    \n",
    "    #fiter out the set arguements\n",
    "    set_args = {k: v for k,v in all_args.items() if v is not None and k !='Normalization'}# and k != 'Normalization'\n",
    "    \n",
    "    # get a list of all values from the dict \"set_args\"\n",
    "    set_args_list = list(set_args.values())\n",
    "    \n",
    "    if 'PropertyCode' in list(set_args.values()):\n",
    "        #construct the url for API access\n",
    "        url = 'https://helsinki-openapi.nuuka.cloud/api/v{}/EnergyData/Monthly/ListByProperty?Record={}&SearchString={}&ReportingGroup={}&StartTime={}&EndTime={}'\n",
    "        a1,b1,c1,d1,e1,f1 = set_args_list[5],set_args_list[0],set_args_list[1],set_args_list[2],set_args_list[3],set_args_list[4]\n",
    "        access_link1 = url.format(a1,b1,c1,d1,e1,f1)\n",
    "        response1 = requests.get(access_link1)\n",
    "        data1 = response1.text\n",
    "        data_df1 = pd.read_json(data1)\n",
    "        return data_df1\n",
    "        \n",
    "    else:\n",
    "        \n",
    "        #construct the url for API access\n",
    "        record_1 = set_args_list[1].replace(\" \",\"%20\")\n",
    "        url = 'https://helsinki-openapi.nuuka.cloud/api/v{}/EnergyData/Monthly/ListByProperty?Record={}&SearchString={}&ReportingGroup={}&StartTime={}&EndTime={}'\n",
    "        a2,b2,c2,d2,e2,f2 = set_args_list[5],set_args_list[0],record_1,set_args_list[2],set_args_list[3],set_args_list[4]\n",
    "        access_link2 = url.format(a2,b2,c2,d2,e2,f2)\n",
    "        response2 = requests.get(access_link2)\n",
    "        data2 = response2.text\n",
    "        data_df2 = pd.read_json(data2)\n",
    "        return data_df2  \n",
    "    \n",
    "def get_hourly_consumption(\n",
    "    record=None,\n",
    "    search_string=None,\n",
    "    reporting_group=None,\n",
    "    start_time=None,\n",
    "    end_time=None,\n",
    "    Normalization=True,\n",
    "    version=None\n",
    "):\n",
    "    # get a dictionary of all possible arguement\n",
    "    all_args = locals()\n",
    "    \n",
    "    #fiter out the set arguements\n",
    "    set_args = {k: v for k,v in all_args.items() if v is not None and k !='Normalization'}# and k != 'Normalization'\n",
    "    \n",
    "    # get a list of all values from the dict \"set_args\"\n",
    "    set_args_list = list(set_args.values())\n",
    "    \n",
    "    if 'PropertyCode' in list(set_args.values()):\n",
    "        #construct the url for API access\n",
    "        url = 'https://helsinki-openapi.nuuka.cloud/api/v{}/EnergyData/Hourly/ListByProperty?Record={}&SearchString={}&ReportingGroup={}&StartTime={}&EndTime={}'\n",
    "        a1,b1,c1,d1,e1,f1 = set_args_list[5],set_args_list[0],set_args_list[1],set_args_list[2],set_args_list[3],set_args_list[4]\n",
    "        access_link1 = url.format(a1,b1,c1,d1,e1,f1)\n",
    "        response1 = requests.get(access_link1)\n",
    "        data1 = response1.text\n",
    "        data_df1 = pd.read_json(data1)\n",
    "        return data_df1\n",
    "        \n",
    "    else:\n",
    "        \n",
    "        #construct the url for API access\n",
    "        record_1 = set_args_list[1].replace(\" \",\"%20\")\n",
    "        url = 'https://helsinki-openapi.nuuka.cloud/api/v{}/EnergyData/Hourly/ListByProperty?Record={}&SearchString={}&ReportingGroup={}&StartTime={}&EndTime={}'\n",
    "        a2,b2,c2,d2,e2,f2 = set_args_list[5],set_args_list[0],record_1,set_args_list[2],set_args_list[3],set_args_list[4]\n",
    "        access_link2 = url.format(a2,b2,c2,d2,e2,f2)\n",
    "        response2 = requests.get(access_link2)\n",
    "        data2 = response2.text\n",
    "        data_df2 = pd.read_json(data2)\n",
    "        return data_df2\n"
   ]
  },
  {
   "cell_type": "markdown",
   "id": "37638de8",
   "metadata": {},
   "source": [
    "## Data collection"
   ]
  },
  {
   "cell_type": "markdown",
   "id": "d52daab3",
   "metadata": {},
   "source": [
    "### Get the list of all properties"
   ]
  },
  {
   "cell_type": "code",
   "execution_count": 212,
   "id": "b30a86d7",
   "metadata": {},
   "outputs": [
    {
     "name": "stdout",
     "output_type": "stream",
     "text": [
      "shape of property list dataframe is:(846, 3)\n"
     ]
    },
    {
     "data": {
      "text/html": [
       "<div>\n",
       "<style scoped>\n",
       "    .dataframe tbody tr th:only-of-type {\n",
       "        vertical-align: middle;\n",
       "    }\n",
       "\n",
       "    .dataframe tbody tr th {\n",
       "        vertical-align: top;\n",
       "    }\n",
       "\n",
       "    .dataframe thead th {\n",
       "        text-align: right;\n",
       "    }\n",
       "</style>\n",
       "<table border=\"1\" class=\"dataframe\">\n",
       "  <thead>\n",
       "    <tr style=\"text-align: right;\">\n",
       "      <th></th>\n",
       "      <th>locationName</th>\n",
       "      <th>propertyName</th>\n",
       "      <th>propertyCode</th>\n",
       "    </tr>\n",
       "  </thead>\n",
       "  <tbody>\n",
       "    <tr>\n",
       "      <th>0</th>\n",
       "      <td>1000 Hakaniemen kauppahalli</td>\n",
       "      <td>1000 Hakaniemen kauppahalli</td>\n",
       "      <td>091-011-9902-0101</td>\n",
       "    </tr>\n",
       "    <tr>\n",
       "      <th>1</th>\n",
       "      <td>1001 Hietalahden kauppahalli</td>\n",
       "      <td>1001 Hietalahden kauppahalli</td>\n",
       "      <td>091-004-9902-0008</td>\n",
       "    </tr>\n",
       "    <tr>\n",
       "      <th>2</th>\n",
       "      <td>1002 Vanha kauppahalli</td>\n",
       "      <td>1002 Vanha kauppahalli</td>\n",
       "      <td>091-003-9906-0101</td>\n",
       "    </tr>\n",
       "    <tr>\n",
       "      <th>3</th>\n",
       "      <td>1037 Vuotalo</td>\n",
       "      <td>1037 Vuotalo</td>\n",
       "      <td>091-054-0179-0003</td>\n",
       "    </tr>\n",
       "    <tr>\n",
       "      <th>4</th>\n",
       "      <td>1507 Suutarilan monitoimitalo/ala-aste ja Lpk Seulanen</td>\n",
       "      <td>1507 Suutarilan monitoimitalo/ala-aste ja Lpk Seulanen</td>\n",
       "      <td>091-040-0024-0003</td>\n",
       "    </tr>\n",
       "  </tbody>\n",
       "</table>\n",
       "</div>"
      ],
      "text/plain": [
       "                                             locationName  \\\n",
       "0                             1000 Hakaniemen kauppahalli   \n",
       "1                            1001 Hietalahden kauppahalli   \n",
       "2                                  1002 Vanha kauppahalli   \n",
       "3                                            1037 Vuotalo   \n",
       "4  1507 Suutarilan monitoimitalo/ala-aste ja Lpk Seulanen   \n",
       "\n",
       "                                             propertyName       propertyCode  \n",
       "0                             1000 Hakaniemen kauppahalli  091-011-9902-0101  \n",
       "1                            1001 Hietalahden kauppahalli  091-004-9902-0008  \n",
       "2                                  1002 Vanha kauppahalli  091-003-9906-0101  \n",
       "3                                            1037 Vuotalo  091-054-0179-0003  \n",
       "4  1507 Suutarilan monitoimitalo/ala-aste ja Lpk Seulanen  091-040-0024-0003  "
      ]
     },
     "execution_count": 212,
     "metadata": {},
     "output_type": "execute_result"
    }
   ],
   "source": [
    "url = \"https://helsinki-openapi.nuuka.cloud/api/v1.0/Property/List\"\n",
    "list_of_prpt_df = get_list_of_properties(url)\n",
    "print(f\"shape of property list dataframe is:{list_of_prpt_df.shape}\")\n",
    "list_of_prpt_df.head()"
   ]
  },
  {
   "cell_type": "markdown",
   "id": "34d33339",
   "metadata": {},
   "source": [
    "### Electricity consumption for 2022 (hourly, daily and monthly for 1000 Hakaniemen kauppahalli)"
   ]
  },
  {
   "cell_type": "markdown",
   "id": "07f165a6",
   "metadata": {},
   "source": [
    "## Hourly"
   ]
  },
  {
   "cell_type": "code",
   "execution_count": 213,
   "id": "52d52723",
   "metadata": {},
   "outputs": [],
   "source": [
    "elect_data_2022_hr = get_hourly_consumption(record=\"LocationName\",\n",
    "search_string=\"1000 Hakaniemen kauppahalli\",\n",
    "reporting_group=\"Electricity\",\n",
    "start_time=\"2022-01-01\",\n",
    "end_time=\"2022-12-31\",\n",
    "Normalization=False,\n",
    "version=1.0)"
   ]
  },
  {
   "cell_type": "code",
   "execution_count": 216,
   "id": "5dbd41cc",
   "metadata": {},
   "outputs": [
    {
     "name": "stdout",
     "output_type": "stream",
     "text": [
      "hourly data shape:(8736, 5)\n"
     ]
    },
    {
     "data": {
      "text/html": [
       "<div>\n",
       "<style scoped>\n",
       "    .dataframe tbody tr th:only-of-type {\n",
       "        vertical-align: middle;\n",
       "    }\n",
       "\n",
       "    .dataframe tbody tr th {\n",
       "        vertical-align: top;\n",
       "    }\n",
       "\n",
       "    .dataframe thead th {\n",
       "        text-align: right;\n",
       "    }\n",
       "</style>\n",
       "<table border=\"1\" class=\"dataframe\">\n",
       "  <thead>\n",
       "    <tr style=\"text-align: right;\">\n",
       "      <th></th>\n",
       "      <th>timestamp</th>\n",
       "      <th>reportingGroup</th>\n",
       "      <th>locationName</th>\n",
       "      <th>value</th>\n",
       "      <th>unit</th>\n",
       "    </tr>\n",
       "  </thead>\n",
       "  <tbody>\n",
       "    <tr>\n",
       "      <th>0</th>\n",
       "      <td>2022-01-01 00:00:00</td>\n",
       "      <td>Electricity</td>\n",
       "      <td>1000 Hakaniemen kauppahalli</td>\n",
       "      <td>0.04</td>\n",
       "      <td>kWh</td>\n",
       "    </tr>\n",
       "    <tr>\n",
       "      <th>1</th>\n",
       "      <td>2022-01-01 01:00:00</td>\n",
       "      <td>Electricity</td>\n",
       "      <td>1000 Hakaniemen kauppahalli</td>\n",
       "      <td>0.05</td>\n",
       "      <td>kWh</td>\n",
       "    </tr>\n",
       "    <tr>\n",
       "      <th>2</th>\n",
       "      <td>2022-01-01 02:00:00</td>\n",
       "      <td>Electricity</td>\n",
       "      <td>1000 Hakaniemen kauppahalli</td>\n",
       "      <td>0.05</td>\n",
       "      <td>kWh</td>\n",
       "    </tr>\n",
       "    <tr>\n",
       "      <th>3</th>\n",
       "      <td>2022-01-01 03:00:00</td>\n",
       "      <td>Electricity</td>\n",
       "      <td>1000 Hakaniemen kauppahalli</td>\n",
       "      <td>0.06</td>\n",
       "      <td>kWh</td>\n",
       "    </tr>\n",
       "    <tr>\n",
       "      <th>4</th>\n",
       "      <td>2022-01-01 04:00:00</td>\n",
       "      <td>Electricity</td>\n",
       "      <td>1000 Hakaniemen kauppahalli</td>\n",
       "      <td>0.04</td>\n",
       "      <td>kWh</td>\n",
       "    </tr>\n",
       "  </tbody>\n",
       "</table>\n",
       "</div>"
      ],
      "text/plain": [
       "            timestamp reportingGroup                 locationName  value unit\n",
       "0 2022-01-01 00:00:00    Electricity  1000 Hakaniemen kauppahalli   0.04  kWh\n",
       "1 2022-01-01 01:00:00    Electricity  1000 Hakaniemen kauppahalli   0.05  kWh\n",
       "2 2022-01-01 02:00:00    Electricity  1000 Hakaniemen kauppahalli   0.05  kWh\n",
       "3 2022-01-01 03:00:00    Electricity  1000 Hakaniemen kauppahalli   0.06  kWh\n",
       "4 2022-01-01 04:00:00    Electricity  1000 Hakaniemen kauppahalli   0.04  kWh"
      ]
     },
     "execution_count": 216,
     "metadata": {},
     "output_type": "execute_result"
    }
   ],
   "source": [
    "print(f\"hourly data shape:{elect_data_2022_hr.shape}\")\n",
    "elect_data_2022_hr.head()"
   ]
  },
  {
   "cell_type": "markdown",
   "id": "b2965907",
   "metadata": {},
   "source": [
    "#### Decsriptive statistics of hourly electricity data"
   ]
  },
  {
   "cell_type": "code",
   "execution_count": null,
   "id": "867d8e1e",
   "metadata": {},
   "outputs": [],
   "source": [
    "elect_data_2022_hr['value'].describe()"
   ]
  },
  {
   "cell_type": "markdown",
   "id": "233bdbfd",
   "metadata": {},
   "source": [
    "## Daily"
   ]
  },
  {
   "cell_type": "code",
   "execution_count": 224,
   "id": "e8681186",
   "metadata": {},
   "outputs": [],
   "source": [
    "elect_data_2022_daily = get_daily_consumption(record=\"LocationName\",\n",
    "search_string=\"1000 Hakaniemen kauppahalli\",\n",
    "reporting_group=\"Electricity\",\n",
    "start_time=\"2022-01-01\",\n",
    "end_time=\"2022-12-31\",\n",
    "Normalization=False,\n",
    "version=1.0)"
   ]
  },
  {
   "cell_type": "code",
   "execution_count": 225,
   "id": "5d133507",
   "metadata": {},
   "outputs": [
    {
     "name": "stdout",
     "output_type": "stream",
     "text": [
      "hourly data shape:(365, 5)\n"
     ]
    },
    {
     "data": {
      "text/html": [
       "<div>\n",
       "<style scoped>\n",
       "    .dataframe tbody tr th:only-of-type {\n",
       "        vertical-align: middle;\n",
       "    }\n",
       "\n",
       "    .dataframe tbody tr th {\n",
       "        vertical-align: top;\n",
       "    }\n",
       "\n",
       "    .dataframe thead th {\n",
       "        text-align: right;\n",
       "    }\n",
       "</style>\n",
       "<table border=\"1\" class=\"dataframe\">\n",
       "  <thead>\n",
       "    <tr style=\"text-align: right;\">\n",
       "      <th></th>\n",
       "      <th>timestamp</th>\n",
       "      <th>reportingGroup</th>\n",
       "      <th>locationName</th>\n",
       "      <th>value</th>\n",
       "      <th>unit</th>\n",
       "    </tr>\n",
       "  </thead>\n",
       "  <tbody>\n",
       "    <tr>\n",
       "      <th>0</th>\n",
       "      <td>2022-01-01</td>\n",
       "      <td>Electricity</td>\n",
       "      <td>1000 Hakaniemen kauppahalli</td>\n",
       "      <td>20.35</td>\n",
       "      <td>kWh</td>\n",
       "    </tr>\n",
       "    <tr>\n",
       "      <th>1</th>\n",
       "      <td>2022-01-02</td>\n",
       "      <td>Electricity</td>\n",
       "      <td>1000 Hakaniemen kauppahalli</td>\n",
       "      <td>139.39</td>\n",
       "      <td>kWh</td>\n",
       "    </tr>\n",
       "    <tr>\n",
       "      <th>2</th>\n",
       "      <td>2022-01-03</td>\n",
       "      <td>Electricity</td>\n",
       "      <td>1000 Hakaniemen kauppahalli</td>\n",
       "      <td>1.18</td>\n",
       "      <td>kWh</td>\n",
       "    </tr>\n",
       "    <tr>\n",
       "      <th>3</th>\n",
       "      <td>2022-01-04</td>\n",
       "      <td>Electricity</td>\n",
       "      <td>1000 Hakaniemen kauppahalli</td>\n",
       "      <td>1.16</td>\n",
       "      <td>kWh</td>\n",
       "    </tr>\n",
       "    <tr>\n",
       "      <th>4</th>\n",
       "      <td>2022-01-05</td>\n",
       "      <td>Electricity</td>\n",
       "      <td>1000 Hakaniemen kauppahalli</td>\n",
       "      <td>22.10</td>\n",
       "      <td>kWh</td>\n",
       "    </tr>\n",
       "  </tbody>\n",
       "</table>\n",
       "</div>"
      ],
      "text/plain": [
       "   timestamp reportingGroup                 locationName  value unit\n",
       "0 2022-01-01    Electricity  1000 Hakaniemen kauppahalli  20.35  kWh\n",
       "1 2022-01-02    Electricity  1000 Hakaniemen kauppahalli 139.39  kWh\n",
       "2 2022-01-03    Electricity  1000 Hakaniemen kauppahalli   1.18  kWh\n",
       "3 2022-01-04    Electricity  1000 Hakaniemen kauppahalli   1.16  kWh\n",
       "4 2022-01-05    Electricity  1000 Hakaniemen kauppahalli  22.10  kWh"
      ]
     },
     "execution_count": 225,
     "metadata": {},
     "output_type": "execute_result"
    }
   ],
   "source": [
    "print(f\"hourly data shape:{elect_data_2022_daily.shape}\")\n",
    "elect_data_2022_daily.head()"
   ]
  },
  {
   "cell_type": "markdown",
   "id": "af7c947d",
   "metadata": {},
   "source": [
    "## Monthly"
   ]
  },
  {
   "cell_type": "code",
   "execution_count": 226,
   "id": "d2169905",
   "metadata": {},
   "outputs": [],
   "source": [
    "elect_data_2022_monthly = get_monthly_consumption(record=\"LocationName\",\n",
    "search_string=\"1000 Hakaniemen kauppahalli\",\n",
    "reporting_group=\"Electricity\",\n",
    "start_time=\"2022-01-01\",\n",
    "end_time=\"2022-12-31\",\n",
    "Normalization=False,\n",
    "version=1.0)"
   ]
  },
  {
   "cell_type": "code",
   "execution_count": 227,
   "id": "e835b2c9",
   "metadata": {},
   "outputs": [
    {
     "name": "stdout",
     "output_type": "stream",
     "text": [
      "hourly data shape:(12, 5)\n"
     ]
    },
    {
     "data": {
      "text/html": [
       "<div>\n",
       "<style scoped>\n",
       "    .dataframe tbody tr th:only-of-type {\n",
       "        vertical-align: middle;\n",
       "    }\n",
       "\n",
       "    .dataframe tbody tr th {\n",
       "        vertical-align: top;\n",
       "    }\n",
       "\n",
       "    .dataframe thead th {\n",
       "        text-align: right;\n",
       "    }\n",
       "</style>\n",
       "<table border=\"1\" class=\"dataframe\">\n",
       "  <thead>\n",
       "    <tr style=\"text-align: right;\">\n",
       "      <th></th>\n",
       "      <th>timestamp</th>\n",
       "      <th>reportingGroup</th>\n",
       "      <th>locationName</th>\n",
       "      <th>value</th>\n",
       "      <th>unit</th>\n",
       "    </tr>\n",
       "  </thead>\n",
       "  <tbody>\n",
       "    <tr>\n",
       "      <th>0</th>\n",
       "      <td>2022-01-31</td>\n",
       "      <td>Electricity</td>\n",
       "      <td>1000 Hakaniemen kauppahalli</td>\n",
       "      <td>572.77</td>\n",
       "      <td>kWh</td>\n",
       "    </tr>\n",
       "    <tr>\n",
       "      <th>1</th>\n",
       "      <td>2022-02-28</td>\n",
       "      <td>Electricity</td>\n",
       "      <td>1000 Hakaniemen kauppahalli</td>\n",
       "      <td>303.28</td>\n",
       "      <td>kWh</td>\n",
       "    </tr>\n",
       "    <tr>\n",
       "      <th>2</th>\n",
       "      <td>2022-03-31</td>\n",
       "      <td>Electricity</td>\n",
       "      <td>1000 Hakaniemen kauppahalli</td>\n",
       "      <td>640.01</td>\n",
       "      <td>kWh</td>\n",
       "    </tr>\n",
       "    <tr>\n",
       "      <th>3</th>\n",
       "      <td>2022-04-30</td>\n",
       "      <td>Electricity</td>\n",
       "      <td>1000 Hakaniemen kauppahalli</td>\n",
       "      <td>720.26</td>\n",
       "      <td>kWh</td>\n",
       "    </tr>\n",
       "    <tr>\n",
       "      <th>4</th>\n",
       "      <td>2022-05-31</td>\n",
       "      <td>Electricity</td>\n",
       "      <td>1000 Hakaniemen kauppahalli</td>\n",
       "      <td>1051.17</td>\n",
       "      <td>kWh</td>\n",
       "    </tr>\n",
       "  </tbody>\n",
       "</table>\n",
       "</div>"
      ],
      "text/plain": [
       "   timestamp reportingGroup                 locationName   value unit\n",
       "0 2022-01-31    Electricity  1000 Hakaniemen kauppahalli  572.77  kWh\n",
       "1 2022-02-28    Electricity  1000 Hakaniemen kauppahalli  303.28  kWh\n",
       "2 2022-03-31    Electricity  1000 Hakaniemen kauppahalli  640.01  kWh\n",
       "3 2022-04-30    Electricity  1000 Hakaniemen kauppahalli  720.26  kWh\n",
       "4 2022-05-31    Electricity  1000 Hakaniemen kauppahalli 1051.17  kWh"
      ]
     },
     "execution_count": 227,
     "metadata": {},
     "output_type": "execute_result"
    }
   ],
   "source": [
    "print(f\"hourly data shape:{elect_data_2022_monthly.shape}\")\n",
    "elect_data_2022_monthly.head()"
   ]
  },
  {
   "cell_type": "code",
   "execution_count": 8,
   "id": "d298d70f",
   "metadata": {},
   "outputs": [
    {
     "name": "stdout",
     "output_type": "stream",
     "text": [
      "<class 'pandas.core.frame.DataFrame'>\n",
      "RangeIndex: 846 entries, 0 to 845\n",
      "Data columns (total 3 columns):\n",
      " #   Column        Non-Null Count  Dtype \n",
      "---  ------        --------------  ----- \n",
      " 0   locationName  846 non-null    object\n",
      " 1   propertyName  842 non-null    object\n",
      " 2   propertyCode  840 non-null    object\n",
      "dtypes: object(3)\n",
      "memory usage: 20.0+ KB\n"
     ]
    }
   ],
   "source": [
    "list_of_prpt_df.info()"
   ]
  },
  {
   "cell_type": "code",
   "execution_count": 9,
   "id": "f14a7f43",
   "metadata": {},
   "outputs": [
    {
     "data": {
      "text/plain": [
       "locationName    0\n",
       "propertyName    4\n",
       "propertyCode    6\n",
       "dtype: int64"
      ]
     },
     "execution_count": 9,
     "metadata": {},
     "output_type": "execute_result"
    }
   ],
   "source": [
    "list_of_prpt_df.isna().sum()"
   ]
  },
  {
   "cell_type": "code",
   "execution_count": 10,
   "id": "db4090af",
   "metadata": {},
   "outputs": [
    {
     "data": {
      "text/html": [
       "<div>\n",
       "<style scoped>\n",
       "    .dataframe tbody tr th:only-of-type {\n",
       "        vertical-align: middle;\n",
       "    }\n",
       "\n",
       "    .dataframe tbody tr th {\n",
       "        vertical-align: top;\n",
       "    }\n",
       "\n",
       "    .dataframe thead th {\n",
       "        text-align: right;\n",
       "    }\n",
       "</style>\n",
       "<table border=\"1\" class=\"dataframe\">\n",
       "  <thead>\n",
       "    <tr style=\"text-align: right;\">\n",
       "      <th></th>\n",
       "      <th>locationName</th>\n",
       "      <th>propertyName</th>\n",
       "      <th>propertyCode</th>\n",
       "    </tr>\n",
       "  </thead>\n",
       "  <tbody>\n",
       "    <tr>\n",
       "      <th>610</th>\n",
       "      <td>4284 Talin jalkapallohalli/PO</td>\n",
       "      <td>None</td>\n",
       "      <td>None</td>\n",
       "    </tr>\n",
       "    <tr>\n",
       "      <th>611</th>\n",
       "      <td>4575 Myllypuron liikuntapuisto/PO</td>\n",
       "      <td>None</td>\n",
       "      <td>None</td>\n",
       "    </tr>\n",
       "    <tr>\n",
       "      <th>844</th>\n",
       "      <td>New property 1</td>\n",
       "      <td>None</td>\n",
       "      <td>None</td>\n",
       "    </tr>\n",
       "    <tr>\n",
       "      <th>845</th>\n",
       "      <td>New property 1</td>\n",
       "      <td>None</td>\n",
       "      <td>None</td>\n",
       "    </tr>\n",
       "  </tbody>\n",
       "</table>\n",
       "</div>"
      ],
      "text/plain": [
       "                          locationName propertyName propertyCode\n",
       "610      4284 Talin jalkapallohalli/PO         None         None\n",
       "611  4575 Myllypuron liikuntapuisto/PO         None         None\n",
       "844                     New property 1         None         None\n",
       "845                     New property 1         None         None"
      ]
     },
     "execution_count": 10,
     "metadata": {},
     "output_type": "execute_result"
    }
   ],
   "source": [
    "null_property_name = list_of_prpt_df[list_of_prpt_df['propertyName'].isna()]\n",
    "null_property_name"
   ]
  },
  {
   "cell_type": "code",
   "execution_count": 11,
   "id": "de5bc185",
   "metadata": {},
   "outputs": [
    {
     "data": {
      "text/html": [
       "<div>\n",
       "<style scoped>\n",
       "    .dataframe tbody tr th:only-of-type {\n",
       "        vertical-align: middle;\n",
       "    }\n",
       "\n",
       "    .dataframe tbody tr th {\n",
       "        vertical-align: top;\n",
       "    }\n",
       "\n",
       "    .dataframe thead th {\n",
       "        text-align: right;\n",
       "    }\n",
       "</style>\n",
       "<table border=\"1\" class=\"dataframe\">\n",
       "  <thead>\n",
       "    <tr style=\"text-align: right;\">\n",
       "      <th></th>\n",
       "      <th>locationName</th>\n",
       "      <th>propertyName</th>\n",
       "      <th>propertyCode</th>\n",
       "    </tr>\n",
       "  </thead>\n",
       "  <tbody>\n",
       "    <tr>\n",
       "      <th>607</th>\n",
       "      <td>2352 Lpk oulunkylän lisätilat</td>\n",
       "      <td>2352 Lpk oulunkylän lisätilat</td>\n",
       "      <td>None</td>\n",
       "    </tr>\n",
       "    <tr>\n",
       "      <th>610</th>\n",
       "      <td>4284 Talin jalkapallohalli/PO</td>\n",
       "      <td>None</td>\n",
       "      <td>None</td>\n",
       "    </tr>\n",
       "    <tr>\n",
       "      <th>611</th>\n",
       "      <td>4575 Myllypuron liikuntapuisto/PO</td>\n",
       "      <td>None</td>\n",
       "      <td>None</td>\n",
       "    </tr>\n",
       "    <tr>\n",
       "      <th>622</th>\n",
       "      <td>2316 Lpk Kumpupilvi</td>\n",
       "      <td>2316 Lpk Kumpupilvi</td>\n",
       "      <td>None</td>\n",
       "    </tr>\n",
       "    <tr>\n",
       "      <th>844</th>\n",
       "      <td>New property 1</td>\n",
       "      <td>None</td>\n",
       "      <td>None</td>\n",
       "    </tr>\n",
       "    <tr>\n",
       "      <th>845</th>\n",
       "      <td>New property 1</td>\n",
       "      <td>None</td>\n",
       "      <td>None</td>\n",
       "    </tr>\n",
       "  </tbody>\n",
       "</table>\n",
       "</div>"
      ],
      "text/plain": [
       "                          locationName                   propertyName  \\\n",
       "607      2352 Lpk oulunkylän lisätilat  2352 Lpk oulunkylän lisätilat   \n",
       "610      4284 Talin jalkapallohalli/PO                           None   \n",
       "611  4575 Myllypuron liikuntapuisto/PO                           None   \n",
       "622                2316 Lpk Kumpupilvi            2316 Lpk Kumpupilvi   \n",
       "844                     New property 1                           None   \n",
       "845                     New property 1                           None   \n",
       "\n",
       "    propertyCode  \n",
       "607         None  \n",
       "610         None  \n",
       "611         None  \n",
       "622         None  \n",
       "844         None  \n",
       "845         None  "
      ]
     },
     "execution_count": 11,
     "metadata": {},
     "output_type": "execute_result"
    }
   ],
   "source": [
    "null_property_code = list_of_prpt_df[list_of_prpt_df['propertyCode'].isna()]\n",
    "null_property_code"
   ]
  },
  {
   "cell_type": "markdown",
   "id": "cba1bfdc",
   "metadata": {},
   "source": [
    "**Observation on list of properties:**\n",
    "    \n",
    "    1. New property 1 and 2 is duplicated \n",
    "    2. 2352 Lpk oulunkylän lisätilat and 2316 Lpk Kumpupilvi has no property code\n",
    "    3. There are 4 missing data in Property_name and 6 in Property_code\n",
    "    \n",
    "**Fix:**\n",
    "    Missing data in property name can be resolved since it is the same as location_name\n",
    " "
   ]
  },
  {
   "cell_type": "markdown",
   "id": "7eff9bb2",
   "metadata": {},
   "source": [
    "#### Fill missing property_name"
   ]
  },
  {
   "cell_type": "code",
   "execution_count": 12,
   "id": "aebb2894",
   "metadata": {},
   "outputs": [],
   "source": [
    "list_of_prpt_df.loc[600:, 'propertyName'] = list_of_prpt_df['locationName']"
   ]
  },
  {
   "cell_type": "code",
   "execution_count": 13,
   "id": "aacc375b",
   "metadata": {},
   "outputs": [
    {
     "data": {
      "text/plain": [
       "locationName    0\n",
       "propertyName    0\n",
       "propertyCode    6\n",
       "dtype: int64"
      ]
     },
     "execution_count": 13,
     "metadata": {},
     "output_type": "execute_result"
    }
   ],
   "source": [
    "list_of_prpt_df.isna().sum()"
   ]
  },
  {
   "cell_type": "code",
   "execution_count": 14,
   "id": "5fd412e7",
   "metadata": {},
   "outputs": [
    {
     "data": {
      "text/html": [
       "<div>\n",
       "<style scoped>\n",
       "    .dataframe tbody tr th:only-of-type {\n",
       "        vertical-align: middle;\n",
       "    }\n",
       "\n",
       "    .dataframe tbody tr th {\n",
       "        vertical-align: top;\n",
       "    }\n",
       "\n",
       "    .dataframe thead th {\n",
       "        text-align: right;\n",
       "    }\n",
       "</style>\n",
       "<table border=\"1\" class=\"dataframe\">\n",
       "  <thead>\n",
       "    <tr style=\"text-align: right;\">\n",
       "      <th></th>\n",
       "      <th>locationName</th>\n",
       "      <th>propertyName</th>\n",
       "      <th>propertyCode</th>\n",
       "    </tr>\n",
       "  </thead>\n",
       "  <tbody>\n",
       "    <tr>\n",
       "      <th>607</th>\n",
       "      <td>2352 Lpk oulunkylän lisätilat</td>\n",
       "      <td>2352 Lpk oulunkylän lisätilat</td>\n",
       "      <td>None</td>\n",
       "    </tr>\n",
       "    <tr>\n",
       "      <th>610</th>\n",
       "      <td>4284 Talin jalkapallohalli/PO</td>\n",
       "      <td>4284 Talin jalkapallohalli/PO</td>\n",
       "      <td>None</td>\n",
       "    </tr>\n",
       "    <tr>\n",
       "      <th>611</th>\n",
       "      <td>4575 Myllypuron liikuntapuisto/PO</td>\n",
       "      <td>4575 Myllypuron liikuntapuisto/PO</td>\n",
       "      <td>None</td>\n",
       "    </tr>\n",
       "    <tr>\n",
       "      <th>622</th>\n",
       "      <td>2316 Lpk Kumpupilvi</td>\n",
       "      <td>2316 Lpk Kumpupilvi</td>\n",
       "      <td>None</td>\n",
       "    </tr>\n",
       "    <tr>\n",
       "      <th>844</th>\n",
       "      <td>New property 1</td>\n",
       "      <td>New property 1</td>\n",
       "      <td>None</td>\n",
       "    </tr>\n",
       "    <tr>\n",
       "      <th>845</th>\n",
       "      <td>New property 1</td>\n",
       "      <td>New property 1</td>\n",
       "      <td>None</td>\n",
       "    </tr>\n",
       "  </tbody>\n",
       "</table>\n",
       "</div>"
      ],
      "text/plain": [
       "                          locationName                       propertyName  \\\n",
       "607      2352 Lpk oulunkylän lisätilat      2352 Lpk oulunkylän lisätilat   \n",
       "610      4284 Talin jalkapallohalli/PO      4284 Talin jalkapallohalli/PO   \n",
       "611  4575 Myllypuron liikuntapuisto/PO  4575 Myllypuron liikuntapuisto/PO   \n",
       "622                2316 Lpk Kumpupilvi                2316 Lpk Kumpupilvi   \n",
       "844                     New property 1                     New property 1   \n",
       "845                     New property 1                     New property 1   \n",
       "\n",
       "    propertyCode  \n",
       "607         None  \n",
       "610         None  \n",
       "611         None  \n",
       "622         None  \n",
       "844         None  \n",
       "845         None  "
      ]
     },
     "execution_count": 14,
     "metadata": {},
     "output_type": "execute_result"
    }
   ],
   "source": [
    "null_property_name = list_of_prpt_df[list_of_prpt_df['propertyCode'].isna()]\n",
    "null_property_name"
   ]
  },
  {
   "cell_type": "code",
   "execution_count": 15,
   "id": "7acdc001",
   "metadata": {},
   "outputs": [
    {
     "data": {
      "text/plain": [
       "837"
      ]
     },
     "execution_count": 15,
     "metadata": {},
     "output_type": "execute_result"
    }
   ],
   "source": [
    "list_of_prpt_df['propertyName'].nunique() "
   ]
  },
  {
   "cell_type": "markdown",
   "id": "a04ee585",
   "metadata": {},
   "source": [
    "## Get electricity usage of \"1000 Hakaniemen kauppahalli\" for 2019"
   ]
  },
  {
   "cell_type": "code",
   "execution_count": 16,
   "id": "aade6461",
   "metadata": {},
   "outputs": [
    {
     "name": "stdout",
     "output_type": "stream",
     "text": [
      "200\n",
      "hakaniemen_kaupa_1000_df shape:(358, 5)\n"
     ]
    },
    {
     "data": {
      "text/html": [
       "<div>\n",
       "<style scoped>\n",
       "    .dataframe tbody tr th:only-of-type {\n",
       "        vertical-align: middle;\n",
       "    }\n",
       "\n",
       "    .dataframe tbody tr th {\n",
       "        vertical-align: top;\n",
       "    }\n",
       "\n",
       "    .dataframe thead th {\n",
       "        text-align: right;\n",
       "    }\n",
       "</style>\n",
       "<table border=\"1\" class=\"dataframe\">\n",
       "  <thead>\n",
       "    <tr style=\"text-align: right;\">\n",
       "      <th></th>\n",
       "      <th>timestamp</th>\n",
       "      <th>reportingGroup</th>\n",
       "      <th>locationName</th>\n",
       "      <th>value</th>\n",
       "      <th>unit</th>\n",
       "    </tr>\n",
       "  </thead>\n",
       "  <tbody>\n",
       "    <tr>\n",
       "      <th>0</th>\n",
       "      <td>2019-01-08</td>\n",
       "      <td>Electricity</td>\n",
       "      <td>1000 Hakaniemen kauppahalli</td>\n",
       "      <td>0.00</td>\n",
       "      <td>kWh</td>\n",
       "    </tr>\n",
       "    <tr>\n",
       "      <th>1</th>\n",
       "      <td>2019-01-09</td>\n",
       "      <td>Electricity</td>\n",
       "      <td>1000 Hakaniemen kauppahalli</td>\n",
       "      <td>0.00</td>\n",
       "      <td>kWh</td>\n",
       "    </tr>\n",
       "    <tr>\n",
       "      <th>2</th>\n",
       "      <td>2019-01-10</td>\n",
       "      <td>Electricity</td>\n",
       "      <td>1000 Hakaniemen kauppahalli</td>\n",
       "      <td>0.00</td>\n",
       "      <td>kWh</td>\n",
       "    </tr>\n",
       "    <tr>\n",
       "      <th>3</th>\n",
       "      <td>2019-01-11</td>\n",
       "      <td>Electricity</td>\n",
       "      <td>1000 Hakaniemen kauppahalli</td>\n",
       "      <td>20.10</td>\n",
       "      <td>kWh</td>\n",
       "    </tr>\n",
       "    <tr>\n",
       "      <th>4</th>\n",
       "      <td>2019-01-12</td>\n",
       "      <td>Electricity</td>\n",
       "      <td>1000 Hakaniemen kauppahalli</td>\n",
       "      <td>30.56</td>\n",
       "      <td>kWh</td>\n",
       "    </tr>\n",
       "  </tbody>\n",
       "</table>\n",
       "</div>"
      ],
      "text/plain": [
       "   timestamp reportingGroup                 locationName  value unit\n",
       "0 2019-01-08    Electricity  1000 Hakaniemen kauppahalli   0.00  kWh\n",
       "1 2019-01-09    Electricity  1000 Hakaniemen kauppahalli   0.00  kWh\n",
       "2 2019-01-10    Electricity  1000 Hakaniemen kauppahalli   0.00  kWh\n",
       "3 2019-01-11    Electricity  1000 Hakaniemen kauppahalli  20.10  kWh\n",
       "4 2019-01-12    Electricity  1000 Hakaniemen kauppahalli  30.56  kWh"
      ]
     },
     "execution_count": 16,
     "metadata": {},
     "output_type": "execute_result"
    }
   ],
   "source": [
    "# get the daily electricity usage for this property for 2019\n",
    "response = requests.get(f\"https://helsinki-openapi.nuuka.cloud/api/v1.0/EnergyData/Daily/ListByProperty?Record=LocationName&SearchString=1000%20Hakaniemen%20kauppahalli&ReportingGroup=Electricity&StartTime=2019-01-01&EndTime=2019-12-31\")\n",
    "print(response.status_code)\n",
    "hakaniemen_kaupa_1000_data = response.text\n",
    "hakaniemen_kaupa_1000_df = pd.read_json(hakaniemen_kaupa_1000_data)\n",
    "print(f\"hakaniemen_kaupa_1000_df shape:{hakaniemen_kaupa_1000_df.shape}\")\n",
    "hakaniemen_kaupa_1000_df.head()"
   ]
  },
  {
   "cell_type": "markdown",
   "id": "82476493",
   "metadata": {},
   "source": [
    "### Data type inspection"
   ]
  },
  {
   "cell_type": "code",
   "execution_count": 17,
   "id": "6ecbe4cb",
   "metadata": {},
   "outputs": [
    {
     "name": "stdout",
     "output_type": "stream",
     "text": [
      "<class 'pandas.core.frame.DataFrame'>\n",
      "RangeIndex: 358 entries, 0 to 357\n",
      "Data columns (total 5 columns):\n",
      " #   Column          Non-Null Count  Dtype         \n",
      "---  ------          --------------  -----         \n",
      " 0   timestamp       358 non-null    datetime64[ns]\n",
      " 1   reportingGroup  358 non-null    object        \n",
      " 2   locationName    358 non-null    object        \n",
      " 3   value           358 non-null    float64       \n",
      " 4   unit            358 non-null    object        \n",
      "dtypes: datetime64[ns](1), float64(1), object(3)\n",
      "memory usage: 14.1+ KB\n"
     ]
    }
   ],
   "source": [
    "# summary statistics\n",
    "hakaniemen_kaupa_1000_df .info()"
   ]
  },
  {
   "cell_type": "markdown",
   "id": "ad4d37b7",
   "metadata": {},
   "source": [
    "## Central and dispersion measure"
   ]
  },
  {
   "cell_type": "code",
   "execution_count": 18,
   "id": "c4c6db1c",
   "metadata": {},
   "outputs": [
    {
     "data": {
      "text/html": [
       "<div>\n",
       "<style scoped>\n",
       "    .dataframe tbody tr th:only-of-type {\n",
       "        vertical-align: middle;\n",
       "    }\n",
       "\n",
       "    .dataframe tbody tr th {\n",
       "        vertical-align: top;\n",
       "    }\n",
       "\n",
       "    .dataframe thead th {\n",
       "        text-align: right;\n",
       "    }\n",
       "</style>\n",
       "<table border=\"1\" class=\"dataframe\">\n",
       "  <thead>\n",
       "    <tr style=\"text-align: right;\">\n",
       "      <th></th>\n",
       "      <th>value</th>\n",
       "    </tr>\n",
       "  </thead>\n",
       "  <tbody>\n",
       "    <tr>\n",
       "      <th>count</th>\n",
       "      <td>358.00</td>\n",
       "    </tr>\n",
       "    <tr>\n",
       "      <th>mean</th>\n",
       "      <td>37.04</td>\n",
       "    </tr>\n",
       "    <tr>\n",
       "      <th>std</th>\n",
       "      <td>24.10</td>\n",
       "    </tr>\n",
       "    <tr>\n",
       "      <th>min</th>\n",
       "      <td>0.00</td>\n",
       "    </tr>\n",
       "    <tr>\n",
       "      <th>25%</th>\n",
       "      <td>15.14</td>\n",
       "    </tr>\n",
       "    <tr>\n",
       "      <th>50%</th>\n",
       "      <td>41.74</td>\n",
       "    </tr>\n",
       "    <tr>\n",
       "      <th>75%</th>\n",
       "      <td>53.39</td>\n",
       "    </tr>\n",
       "    <tr>\n",
       "      <th>max</th>\n",
       "      <td>120.40</td>\n",
       "    </tr>\n",
       "  </tbody>\n",
       "</table>\n",
       "</div>"
      ],
      "text/plain": [
       "       value\n",
       "count 358.00\n",
       "mean   37.04\n",
       "std    24.10\n",
       "min     0.00\n",
       "25%    15.14\n",
       "50%    41.74\n",
       "75%    53.39\n",
       "max   120.40"
      ]
     },
     "execution_count": 18,
     "metadata": {},
     "output_type": "execute_result"
    }
   ],
   "source": [
    "hakaniemen_kaupa_1000_df.describe()"
   ]
  },
  {
   "cell_type": "markdown",
   "id": "b1426277",
   "metadata": {},
   "source": [
    "### Distribution of the electricity usage"
   ]
  },
  {
   "cell_type": "code",
   "execution_count": 19,
   "id": "2013a47e",
   "metadata": {},
   "outputs": [
    {
     "data": {
      "image/png": "[encoded data removed]",
      "text/plain": [
       "<Figure size 640x480 with 1 Axes>"
      ]
     },
     "metadata": {},
     "output_type": "display_data"
    }
   ],
   "source": [
    "# Plot the distribution of the propery electricity usage\n",
    "sns.histplot(data=hakaniemen_kaupa_1000_df, x=hakaniemen_kaupa_1000_df['value'], kde=True)\n",
    "plt.show()"
   ]
  },
  {
   "cell_type": "code",
   "execution_count": null,
   "id": "05124c97",
   "metadata": {},
   "outputs": [],
   "source": []
  },
  {
   "cell_type": "markdown",
   "id": "416844d8",
   "metadata": {},
   "source": [
    "### Monthly Consumption"
   ]
  },
  {
   "cell_type": "code",
   "execution_count": 20,
   "id": "8befaf67",
   "metadata": {},
   "outputs": [
    {
     "name": "stdout",
     "output_type": "stream",
     "text": [
      "200\n",
      "hakaniemen_kaupa_monthly_df shape:(12, 5)\n"
     ]
    },
    {
     "data": {
      "text/html": [
       "<div>\n",
       "<style scoped>\n",
       "    .dataframe tbody tr th:only-of-type {\n",
       "        vertical-align: middle;\n",
       "    }\n",
       "\n",
       "    .dataframe tbody tr th {\n",
       "        vertical-align: top;\n",
       "    }\n",
       "\n",
       "    .dataframe thead th {\n",
       "        text-align: right;\n",
       "    }\n",
       "</style>\n",
       "<table border=\"1\" class=\"dataframe\">\n",
       "  <thead>\n",
       "    <tr style=\"text-align: right;\">\n",
       "      <th></th>\n",
       "      <th>timestamp</th>\n",
       "      <th>reportingGroup</th>\n",
       "      <th>locationName</th>\n",
       "      <th>value</th>\n",
       "      <th>unit</th>\n",
       "    </tr>\n",
       "  </thead>\n",
       "  <tbody>\n",
       "    <tr>\n",
       "      <th>0</th>\n",
       "      <td>2019-01-31</td>\n",
       "      <td>Electricity</td>\n",
       "      <td>1000 Hakaniemen kauppahalli</td>\n",
       "      <td>247.38</td>\n",
       "      <td>kWh</td>\n",
       "    </tr>\n",
       "    <tr>\n",
       "      <th>1</th>\n",
       "      <td>2019-02-28</td>\n",
       "      <td>Electricity</td>\n",
       "      <td>1000 Hakaniemen kauppahalli</td>\n",
       "      <td>265.47</td>\n",
       "      <td>kWh</td>\n",
       "    </tr>\n",
       "    <tr>\n",
       "      <th>2</th>\n",
       "      <td>2019-03-31</td>\n",
       "      <td>Electricity</td>\n",
       "      <td>1000 Hakaniemen kauppahalli</td>\n",
       "      <td>484.04</td>\n",
       "      <td>kWh</td>\n",
       "    </tr>\n",
       "    <tr>\n",
       "      <th>3</th>\n",
       "      <td>2019-04-30</td>\n",
       "      <td>Electricity</td>\n",
       "      <td>1000 Hakaniemen kauppahalli</td>\n",
       "      <td>1198.02</td>\n",
       "      <td>kWh</td>\n",
       "    </tr>\n",
       "    <tr>\n",
       "      <th>4</th>\n",
       "      <td>2019-05-31</td>\n",
       "      <td>Electricity</td>\n",
       "      <td>1000 Hakaniemen kauppahalli</td>\n",
       "      <td>1394.24</td>\n",
       "      <td>kWh</td>\n",
       "    </tr>\n",
       "  </tbody>\n",
       "</table>\n",
       "</div>"
      ],
      "text/plain": [
       "   timestamp reportingGroup                 locationName   value unit\n",
       "0 2019-01-31    Electricity  1000 Hakaniemen kauppahalli  247.38  kWh\n",
       "1 2019-02-28    Electricity  1000 Hakaniemen kauppahalli  265.47  kWh\n",
       "2 2019-03-31    Electricity  1000 Hakaniemen kauppahalli  484.04  kWh\n",
       "3 2019-04-30    Electricity  1000 Hakaniemen kauppahalli 1198.02  kWh\n",
       "4 2019-05-31    Electricity  1000 Hakaniemen kauppahalli 1394.24  kWh"
      ]
     },
     "execution_count": 20,
     "metadata": {},
     "output_type": "execute_result"
    }
   ],
   "source": [
    "# get the daily electricity usage for this property for 2019\n",
    "response = requests.get(f\"https://helsinki-openapi.nuuka.cloud/api/v1.0/EnergyData/Monthly/ListByProperty?Record=LocationName&SearchString=1000%20Hakaniemen%20kauppahalli&ReportingGroup=Electricity&StartTime=2019-01-01&EndTime=2019-12-31\")\n",
    "print(response.status_code)\n",
    "hakaniemen_kaupa_monthly_data = response.text\n",
    "hakaniemen_kaupa_monthly_df = pd.read_json(hakaniemen_kaupa_monthly_data)\n",
    "print(f\"hakaniemen_kaupa_monthly_df shape:{hakaniemen_kaupa_monthly_df.shape}\")\n",
    "hakaniemen_kaupa_monthly_df.head()"
   ]
  },
  {
   "cell_type": "code",
   "execution_count": 21,
   "id": "6ac70ca2",
   "metadata": {},
   "outputs": [
    {
     "ename": "TypeError",
     "evalue": "to_datetime() missing 1 required positional argument: 'arg'",
     "output_type": "error",
     "traceback": [
      "\u001b[1;31m---------------------------------------------------------------------------\u001b[0m",
      "\u001b[1;31mTypeError\u001b[0m                                 Traceback (most recent call last)",
      "Cell \u001b[1;32mIn[21], line 1\u001b[0m\n\u001b[1;32m----> 1\u001b[0m hakaniemen_kaupa_monthly_df[\u001b[38;5;124m'\u001b[39m\u001b[38;5;124mmonth\u001b[39m\u001b[38;5;124m'\u001b[39m] \u001b[38;5;241m=\u001b[39m \u001b[43mpd\u001b[49m\u001b[38;5;241;43m.\u001b[39;49m\u001b[43mto_datetime\u001b[49m\u001b[43m(\u001b[49m\u001b[43m)\u001b[49m\n",
      "\u001b[1;31mTypeError\u001b[0m: to_datetime() missing 1 required positional argument: 'arg'"
     ]
    }
   ],
   "source": [
    "hakaniemen_kaupa_monthly_df['month'] = pd.to_datetime()"
   ]
  },
  {
   "cell_type": "code",
   "execution_count": null,
   "id": "696d584a",
   "metadata": {},
   "outputs": [],
   "source": [
    "hakaniemen_kaupa_monthly_df ['timestamp'] = pd.to_datetime(hakaniemen_kaupa_monthly_df['timestamp'])\n",
    "hakaniemen_kaupa_monthly_df['month'] = hakaniemen_kaupa_monthly_df ['timestamp'].dt.strftime('%b')\n",
    "hakaniemen_kaupa_monthly_df.head()"
   ]
  },
  {
   "cell_type": "code",
   "execution_count": null,
   "id": "8c7e4741",
   "metadata": {},
   "outputs": [],
   "source": [
    "# Plot the line diagram for the monthly electricity consumption\n",
    "sns.lineplot(x=hakaniemen_kaupa_monthly_df['month'], y=hakaniemen_kaupa_monthly_df['value'], data=hakaniemen_kaupa_monthly_df)\n",
    "plt.show()"
   ]
  },
  {
   "cell_type": "markdown",
   "id": "21a1054d",
   "metadata": {},
   "source": [
    "### District cooling Energy data"
   ]
  },
  {
   "cell_type": "code",
   "execution_count": null,
   "id": "ea2a1b59",
   "metadata": {},
   "outputs": [],
   "source": []
  },
  {
   "cell_type": "code",
   "execution_count": null,
   "id": "a807f1d8",
   "metadata": {},
   "outputs": [],
   "source": []
  },
  {
   "cell_type": "code",
   "execution_count": null,
   "id": "3973b01d",
   "metadata": {},
   "outputs": [],
   "source": []
  },
  {
   "cell_type": "code",
   "execution_count": null,
   "id": "c753ffc5",
   "metadata": {},
   "outputs": [],
   "source": []
  },
  {
   "cell_type": "code",
   "execution_count": 190,
   "id": "a363dade",
   "metadata": {},
   "outputs": [],
   "source": [
    "def get_dailyly_consumption(\n",
    "    record=None,\n",
    "    search_string=None,\n",
    "    reporting_group=None,\n",
    "    start_time=None,\n",
    "    end_time=None,\n",
    "    Normalization=True,\n",
    "    version=None\n",
    "):\n",
    "    # get a dictionary of all possible arguement\n",
    "    all_args = locals()\n",
    "    \n",
    "    #fiter out the set arguements\n",
    "    set_args = {k: v for k,v in all_args.items() if v is not None and k !='Normalization'}# and k != 'Normalization'\n",
    "    \n",
    "    # get a list of all values from the dict \"set_args\"\n",
    "    set_args_list = list(set_args.values())\n",
    "    \n",
    "    if 'PropertyCode' in list(set_args.values()):\n",
    "        #construct the url for API access\n",
    "        url = 'https://helsinki-openapi.nuuka.cloud/api/v{}/EnergyData/Daily/ListByProperty?Record={}&SearchString={}&ReportingGroup={}&StartTime={}&EndTime={}'\n",
    "        a1,b1,c1,d1,e1,f1 = set_args_list[5],set_args_list[0],set_args_list[1],set_args_list[2],set_args_list[3],set_args_list[4]\n",
    "        access_link1 = url.format(a1,b1,c1,d1,e1,f1)\n",
    "        response1 = requests.get(access_link1)\n",
    "        data1 = response1.text\n",
    "        data_df1 = pd.read_json(data1)\n",
    "        return data_df1\n",
    "        \n",
    "    else:\n",
    "        \n",
    "        #construct the url for API access\n",
    "        record_1 = set_args_list[1].replace(\" \",\"%20\")\n",
    "        url = 'https://helsinki-openapi.nuuka.cloud/api/v{}/EnergyData/Daily/ListByProperty?Record={}&SearchString={}&ReportingGroup={}&StartTime={}&EndTime={}'\n",
    "        a2,b2,c2,d2,e2,f2 = set_args_list[5],set_args_list[0],record_1,set_args_list[2],set_args_list[3],set_args_list[4]\n",
    "        access_link2 = url.format(a2,b2,c2,d2,e2,f2)\n",
    "        response2 = requests.get(access_link2)\n",
    "        data2 = response2.text\n",
    "        data_df2 = pd.read_json(data2)\n",
    "        return data_df2"
   ]
  },
  {
   "cell_type": "code",
   "execution_count": 199,
   "id": "81c8eebd",
   "metadata": {},
   "outputs": [],
   "source": [
    "def get_monthly_consumption(\n",
    "    record=None,\n",
    "    search_string=None,\n",
    "    reporting_group=None,\n",
    "    start_time=None,\n",
    "    end_time=None,\n",
    "    Normalization=True,\n",
    "    version=None\n",
    "):\n",
    "    # get a dictionary of all possible arguement\n",
    "    all_args = locals()\n",
    "    \n",
    "    #fiter out the set arguements\n",
    "    set_args = {k: v for k,v in all_args.items() if v is not None and k !='Normalization'}# and k != 'Normalization'\n",
    "    \n",
    "    # get a list of all values from the dict \"set_args\"\n",
    "    set_args_list = list(set_args.values())\n",
    "    \n",
    "    if 'PropertyCode' in list(set_args.values()):\n",
    "        #construct the url for API access\n",
    "        url = 'https://helsinki-openapi.nuuka.cloud/api/v{}/EnergyData/Monthly/ListByProperty?Record={}&SearchString={}&ReportingGroup={}&StartTime={}&EndTime={}'\n",
    "        a1,b1,c1,d1,e1,f1 = set_args_list[5],set_args_list[0],set_args_list[1],set_args_list[2],set_args_list[3],set_args_list[4]\n",
    "        access_link1 = url.format(a1,b1,c1,d1,e1,f1)\n",
    "        response1 = requests.get(access_link1)\n",
    "        data1 = response1.text\n",
    "        data_df1 = pd.read_json(data1)\n",
    "        return data_df1\n",
    "        \n",
    "    else:\n",
    "        \n",
    "        #construct the url for API access\n",
    "        record_1 = set_args_list[1].replace(\" \",\"%20\")\n",
    "        url = 'https://helsinki-openapi.nuuka.cloud/api/v{}/EnergyData/Monthly/ListByProperty?Record={}&SearchString={}&ReportingGroup={}&StartTime={}&EndTime={}'\n",
    "        a2,b2,c2,d2,e2,f2 = set_args_list[5],set_args_list[0],record_1,set_args_list[2],set_args_list[3],set_args_list[4]\n",
    "        access_link2 = url.format(a2,b2,c2,d2,e2,f2)\n",
    "        response2 = requests.get(access_link2)\n",
    "        data2 = response2.text\n",
    "        data_df2 = pd.read_json(data2)\n",
    "        return data_df2"
   ]
  },
  {
   "cell_type": "code",
   "execution_count": 205,
   "id": "76a5bba6",
   "metadata": {},
   "outputs": [],
   "source": [
    "def get_hourly_consumption(\n",
    "    record=None,\n",
    "    search_string=None,\n",
    "    reporting_group=None,\n",
    "    start_time=None,\n",
    "    end_time=None,\n",
    "    Normalization=True,\n",
    "    version=None\n",
    "):\n",
    "    # get a dictionary of all possible arguement\n",
    "    all_args = locals()\n",
    "    \n",
    "    #fiter out the set arguements\n",
    "    set_args = {k: v for k,v in all_args.items() if v is not None and k !='Normalization'}# and k != 'Normalization'\n",
    "    \n",
    "    # get a list of all values from the dict \"set_args\"\n",
    "    set_args_list = list(set_args.values())\n",
    "    \n",
    "    if 'PropertyCode' in list(set_args.values()):\n",
    "        #construct the url for API access\n",
    "        url = 'https://helsinki-openapi.nuuka.cloud/api/v{}/EnergyData/Hourly/ListByProperty?Record={}&SearchString={}&ReportingGroup={}&StartTime={}&EndTime={}'\n",
    "        a1,b1,c1,d1,e1,f1 = set_args_list[5],set_args_list[0],set_args_list[1],set_args_list[2],set_args_list[3],set_args_list[4]\n",
    "        access_link1 = url.format(a1,b1,c1,d1,e1,f1)\n",
    "        response1 = requests.get(access_link1)\n",
    "        data1 = response1.text\n",
    "        data_df1 = pd.read_json(data1)\n",
    "        return data_df1\n",
    "        \n",
    "    else:\n",
    "        \n",
    "        #construct the url for API access\n",
    "        record_1 = set_args_list[1].replace(\" \",\"%20\")\n",
    "        url = 'https://helsinki-openapi.nuuka.cloud/api/v{}/EnergyData/Hourly/ListByProperty?Record={}&SearchString={}&ReportingGroup={}&StartTime={}&EndTime={}'\n",
    "        a2,b2,c2,d2,e2,f2 = set_args_list[5],set_args_list[0],record_1,set_args_list[2],set_args_list[3],set_args_list[4]\n",
    "        access_link2 = url.format(a2,b2,c2,d2,e2,f2)\n",
    "        response2 = requests.get(access_link2)\n",
    "        data2 = response2.text\n",
    "        data_df2 = pd.read_json(data2)\n",
    "        return data_df2"
   ]
  },
  {
   "cell_type": "code",
   "execution_count": 206,
   "id": "3177ff7f",
   "metadata": {
    "scrolled": true
   },
   "outputs": [],
   "source": [
    "were = get_hourly_consumption(record=\"LocationName\",\n",
    "search_string=\"1000 Hakaniemen kauppahalli\",\n",
    "reporting_group=\"Electricity\",\n",
    "start_time=\"2022-01-01\",\n",
    "end_time=\"2022-12-31\",\n",
    "Normalization=False,\n",
    "version=1.0)"
   ]
  },
  {
   "cell_type": "code",
   "execution_count": 207,
   "id": "eeec21dc",
   "metadata": {},
   "outputs": [
    {
     "name": "stdout",
     "output_type": "stream",
     "text": [
      "dataframe shape:(8736, 5)\n"
     ]
    },
    {
     "data": {
      "text/html": [
       "<div>\n",
       "<style scoped>\n",
       "    .dataframe tbody tr th:only-of-type {\n",
       "        vertical-align: middle;\n",
       "    }\n",
       "\n",
       "    .dataframe tbody tr th {\n",
       "        vertical-align: top;\n",
       "    }\n",
       "\n",
       "    .dataframe thead th {\n",
       "        text-align: right;\n",
       "    }\n",
       "</style>\n",
       "<table border=\"1\" class=\"dataframe\">\n",
       "  <thead>\n",
       "    <tr style=\"text-align: right;\">\n",
       "      <th></th>\n",
       "      <th>timestamp</th>\n",
       "      <th>reportingGroup</th>\n",
       "      <th>locationName</th>\n",
       "      <th>value</th>\n",
       "      <th>unit</th>\n",
       "    </tr>\n",
       "  </thead>\n",
       "  <tbody>\n",
       "    <tr>\n",
       "      <th>0</th>\n",
       "      <td>2022-01-01 00:00:00</td>\n",
       "      <td>Electricity</td>\n",
       "      <td>1000 Hakaniemen kauppahalli</td>\n",
       "      <td>0.04</td>\n",
       "      <td>kWh</td>\n",
       "    </tr>\n",
       "    <tr>\n",
       "      <th>1</th>\n",
       "      <td>2022-01-01 01:00:00</td>\n",
       "      <td>Electricity</td>\n",
       "      <td>1000 Hakaniemen kauppahalli</td>\n",
       "      <td>0.05</td>\n",
       "      <td>kWh</td>\n",
       "    </tr>\n",
       "    <tr>\n",
       "      <th>2</th>\n",
       "      <td>2022-01-01 02:00:00</td>\n",
       "      <td>Electricity</td>\n",
       "      <td>1000 Hakaniemen kauppahalli</td>\n",
       "      <td>0.05</td>\n",
       "      <td>kWh</td>\n",
       "    </tr>\n",
       "    <tr>\n",
       "      <th>3</th>\n",
       "      <td>2022-01-01 03:00:00</td>\n",
       "      <td>Electricity</td>\n",
       "      <td>1000 Hakaniemen kauppahalli</td>\n",
       "      <td>0.06</td>\n",
       "      <td>kWh</td>\n",
       "    </tr>\n",
       "    <tr>\n",
       "      <th>4</th>\n",
       "      <td>2022-01-01 04:00:00</td>\n",
       "      <td>Electricity</td>\n",
       "      <td>1000 Hakaniemen kauppahalli</td>\n",
       "      <td>0.04</td>\n",
       "      <td>kWh</td>\n",
       "    </tr>\n",
       "  </tbody>\n",
       "</table>\n",
       "</div>"
      ],
      "text/plain": [
       "            timestamp reportingGroup                 locationName  value unit\n",
       "0 2022-01-01 00:00:00    Electricity  1000 Hakaniemen kauppahalli   0.04  kWh\n",
       "1 2022-01-01 01:00:00    Electricity  1000 Hakaniemen kauppahalli   0.05  kWh\n",
       "2 2022-01-01 02:00:00    Electricity  1000 Hakaniemen kauppahalli   0.05  kWh\n",
       "3 2022-01-01 03:00:00    Electricity  1000 Hakaniemen kauppahalli   0.06  kWh\n",
       "4 2022-01-01 04:00:00    Electricity  1000 Hakaniemen kauppahalli   0.04  kWh"
      ]
     },
     "execution_count": 207,
     "metadata": {},
     "output_type": "execute_result"
    }
   ],
   "source": [
    "print(f\"dataframe shape:{were.shape}\")\n",
    "were.head()"
   ]
  },
  {
   "cell_type": "code",
   "execution_count": 42,
   "id": "036228af",
   "metadata": {},
   "outputs": [],
   "source": [
    "def get_list_of_properties(api_url):\n",
    "    property_list = requests.get(api_url)\n",
    "    if property_list.status_code !=200:\n",
    "        print(f\"request error:{property_list.status_code}\")\n",
    "    else:\n",
    "        property_list_data = property_list.text\n",
    "        propt_list_df = pd.read_json(property_list_data)\n",
    "        return propt_list_df      "
   ]
  },
  {
   "cell_type": "code",
   "execution_count": 45,
   "id": "f4ff749d",
   "metadata": {},
   "outputs": [
    {
     "data": {
      "text/plain": [
       "'shck-plus%arg'"
      ]
     },
     "execution_count": 45,
     "metadata": {},
     "output_type": "execute_result"
    }
   ],
   "source": [
    "text.replace(\"-\"and\" \",\"%\")\n",
    "if 'PropertyCode' in set_args.keys()\n"
   ]
  },
  {
   "cell_type": "code",
   "execution_count": 142,
   "id": "9a909e7f",
   "metadata": {},
   "outputs": [
    {
     "name": "stdout",
     "output_type": "stream",
     "text": [
      "yes\n"
     ]
    }
   ],
   "source": [
    "\n",
    "list_2 = ['lizz', 'bens', 'cols']\n",
    "if 'lizz' in list_2:\n",
    "    print('yes')\n"
   ]
  },
  {
   "cell_type": "code",
   "execution_count": null,
   "id": "0dc09aa4",
   "metadata": {},
   "outputs": [],
   "source": []
  }
 ],
 "metadata": {
  "kernelspec": {
   "display_name": "Python 3 (ipykernel)",
   "language": "python",
   "name": "python3"
  },
  "language_info": {
   "codemirror_mode": {
    "name": "ipython",
    "version": 3
   },
   "file_extension": ".py",
   "mimetype": "text/x-python",
   "name": "python",
   "nbconvert_exporter": "python",
   "pygments_lexer": "ipython3",
   "version": "3.9.17"
  }
 },
 "nbformat": 4,
 "nbformat_minor": 5
}
