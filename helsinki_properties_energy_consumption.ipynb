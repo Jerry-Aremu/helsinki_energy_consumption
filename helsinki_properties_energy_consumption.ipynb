{
 "cells": [
  {
   "cell_type": "markdown",
   "id": "51eac843",
   "metadata": {},
   "source": [
    "<div style = \"text-align: left\"><font size = 6 color = \"#B22222\" face = \"verdana\"><b>Helsinki Service Property Energy Analysis</b></font></div>\n",
    "<div style = \"text-align: left\"><font size = 4 color = \"#00008B\" face = \"verdana\"><b>Exploratory data analysis</b></font></div>\n",
    "<div style = \"text-align: leftt\"><font><i>Jerry & Mayen</i></font></div>\n",
    "<div style = \"text-align: leftt\"><font>18th Feb 2023</font></div>"
   ]
  },
  {
   "cell_type": "markdown",
   "id": "fdcf39c2",
   "metadata": {},
   "source": [
    "### Introduction"
   ]
  },
  {
   "cell_type": "markdown",
   "id": "12a855ee",
   "metadata": {},
   "source": [
    "The API relates to energy consumption data of some Utility and  Service Properties in Helsinki\n",
    "\n",
    "Nuuka open API provides a platform for getting information on the energy data of of Helsinki Utility and Service Properties. \n",
    "The endpoint is useful for understanding the energy consumption profile and other additional informations such as heating, \n",
    "water and cooling. Energy can be fetched on ```hourly```, ```daily``` and ```monthly``` basis.\n",
    "\n",
    "The API requires no authentication. Precise energy data are generally available from 2015 onwards. \n",
    "The data is updated once a day, and the result is returned in JSON format. data are usually not \n",
    "validated hence may contain errors\n"
   ]
  },
  {
   "cell_type": "code",
   "execution_count": 52,
   "id": "db463882",
   "metadata": {},
   "outputs": [],
   "source": [
    "import requests\n",
    "import warnings\n",
    "import pandas as pd\n",
    "import json\n",
    "import seaborn as sns\n",
    "import matplotlib.pyplot as plt\n",
    "import datetime as datetime\n",
    "import helper as hp"
   ]
  },
  {
   "cell_type": "markdown",
   "id": "a99bd0f0",
   "metadata": {},
   "source": [
    "### Notebook settings "
   ]
  },
  {
   "cell_type": "code",
   "execution_count": 53,
   "id": "ec993516",
   "metadata": {},
   "outputs": [
    {
     "data": {
      "text/html": [
       "<style>.container { width:100% !important; }</style>"
      ],
      "text/plain": [
       "<IPython.core.display.HTML object>"
      ]
     },
     "metadata": {},
     "output_type": "display_data"
    }
   ],
   "source": [
    "warnings.simplefilter(action='ignore', category=RuntimeWarning)\n",
    "warnings.simplefilter(action='ignore', category=FutureWarning)\n",
    "warnings.simplefilter(action='ignore', category=UserWarning)\n",
    "warnings.simplefilter(action='ignore', category=DeprecationWarning)\n",
    "pd.set_option(\"display.max_columns\", None)\n",
    "pd.set_option(\"display.max_rows\", None)\n",
    "pd.options.display.max_colwidth = None\n",
    "pd.set_option(\"display.float_format\", lambda x: '%.2f' % x)\n",
    "from IPython.display import display, HTML\n",
    "display(HTML(\"<style>.container { width:100% !important; }</style>\"))"
   ]
  },
  {
   "cell_type": "markdown",
   "id": "228e59c0",
   "metadata": {},
   "source": [
    "### List of properties"
   ]
  },
  {
   "cell_type": "code",
   "execution_count": 54,
   "id": "eacb5339",
   "metadata": {},
   "outputs": [
    {
     "name": "stdout",
     "output_type": "stream",
     "text": [
      "number of properties:842\n"
     ]
    },
    {
     "data": {
      "text/html": [
       "<div>\n",
       "<style scoped>\n",
       "    .dataframe tbody tr th:only-of-type {\n",
       "        vertical-align: middle;\n",
       "    }\n",
       "\n",
       "    .dataframe tbody tr th {\n",
       "        vertical-align: top;\n",
       "    }\n",
       "\n",
       "    .dataframe thead th {\n",
       "        text-align: right;\n",
       "    }\n",
       "</style>\n",
       "<table border=\"1\" class=\"dataframe\">\n",
       "  <thead>\n",
       "    <tr style=\"text-align: right;\">\n",
       "      <th></th>\n",
       "      <th>locationName</th>\n",
       "      <th>propertyName</th>\n",
       "      <th>propertyCode</th>\n",
       "    </tr>\n",
       "  </thead>\n",
       "  <tbody>\n",
       "    <tr>\n",
       "      <th>0</th>\n",
       "      <td>1000 Hakaniemen kauppahalli</td>\n",
       "      <td>1000 Hakaniemen kauppahalli</td>\n",
       "      <td>091-011-9902-0101</td>\n",
       "    </tr>\n",
       "    <tr>\n",
       "      <th>1</th>\n",
       "      <td>1001 Hietalahden kauppahalli</td>\n",
       "      <td>1001 Hietalahden kauppahalli</td>\n",
       "      <td>091-004-9902-0008</td>\n",
       "    </tr>\n",
       "    <tr>\n",
       "      <th>2</th>\n",
       "      <td>1002 Vanha kauppahalli</td>\n",
       "      <td>1002 Vanha kauppahalli</td>\n",
       "      <td>091-003-9906-0101</td>\n",
       "    </tr>\n",
       "    <tr>\n",
       "      <th>3</th>\n",
       "      <td>1037 Vuotalo</td>\n",
       "      <td>1037 Vuotalo</td>\n",
       "      <td>091-054-0179-0003</td>\n",
       "    </tr>\n",
       "    <tr>\n",
       "      <th>4</th>\n",
       "      <td>1507 Suutarilan monitoimitalo/ala-aste ja Lpk Seulanen</td>\n",
       "      <td>1507 Suutarilan monitoimitalo/ala-aste ja Lpk Seulanen</td>\n",
       "      <td>091-040-0024-0003</td>\n",
       "    </tr>\n",
       "  </tbody>\n",
       "</table>\n",
       "</div>"
      ],
      "text/plain": [
       "                                             locationName  \\\n",
       "0                             1000 Hakaniemen kauppahalli   \n",
       "1                            1001 Hietalahden kauppahalli   \n",
       "2                                  1002 Vanha kauppahalli   \n",
       "3                                            1037 Vuotalo   \n",
       "4  1507 Suutarilan monitoimitalo/ala-aste ja Lpk Seulanen   \n",
       "\n",
       "                                             propertyName       propertyCode  \n",
       "0                             1000 Hakaniemen kauppahalli  091-011-9902-0101  \n",
       "1                            1001 Hietalahden kauppahalli  091-004-9902-0008  \n",
       "2                                  1002 Vanha kauppahalli  091-003-9906-0101  \n",
       "3                                            1037 Vuotalo  091-054-0179-0003  \n",
       "4  1507 Suutarilan monitoimitalo/ala-aste ja Lpk Seulanen  091-040-0024-0003  "
      ]
     },
     "execution_count": 54,
     "metadata": {},
     "output_type": "execute_result"
    }
   ],
   "source": [
    "# decalre the url for the list of properties\n",
    "list_url = 'https://helsinki-openapi.nuuka.cloud/api/v1.0/Property/List'\n",
    "\n",
    "# call the function for getting the list of all properties from helper.py\n",
    "property_list = hp.total_list_of_properties(list_url)\n",
    "\n",
    "# print the total number of properties and the dataframe returned by the function \n",
    "print(f\"number of properties:{property_list['propertyName'].nunique()}\")\n",
    "property_list.head()"
   ]
  },
  {
   "cell_type": "markdown",
   "id": "86d068e6",
   "metadata": {},
   "source": [
    "### Get hourly, daily and  monthly consumption for the year 2021 and 2022 "
   ]
  },
  {
   "cell_type": "markdown",
   "id": "73044220",
   "metadata": {},
   "source": [
    "# 2022"
   ]
  },
  {
   "cell_type": "markdown",
   "id": "01980f6d",
   "metadata": {},
   "source": [
    "### Electricity"
   ]
  },
  {
   "cell_type": "code",
   "execution_count": 55,
   "id": "fd42c1c0",
   "metadata": {},
   "outputs": [],
   "source": [
    "hourly_elect_2022_df = hp.get_request_as_df(period='Hourly',\n",
    "record=\"LocationName\",\n",
    "search_string=\"1000 Hakaniemen kauppahalli\",\n",
    "reporting_group=\"Electricity\",\n",
    "start_time=\"2022-01-01\",\n",
    "end_time=\"2022-12-31\",\n",
    "Normalization=False,\n",
    "version=1.0)"
   ]
  },
  {
   "cell_type": "code",
   "execution_count": 56,
   "id": "5a7f6357",
   "metadata": {},
   "outputs": [
    {
     "name": "stdout",
     "output_type": "stream",
     "text": [
      "dataframe shape:(8736, 5)\n"
     ]
    },
    {
     "data": {
      "text/html": [
       "<div>\n",
       "<style scoped>\n",
       "    .dataframe tbody tr th:only-of-type {\n",
       "        vertical-align: middle;\n",
       "    }\n",
       "\n",
       "    .dataframe tbody tr th {\n",
       "        vertical-align: top;\n",
       "    }\n",
       "\n",
       "    .dataframe thead th {\n",
       "        text-align: right;\n",
       "    }\n",
       "</style>\n",
       "<table border=\"1\" class=\"dataframe\">\n",
       "  <thead>\n",
       "    <tr style=\"text-align: right;\">\n",
       "      <th></th>\n",
       "      <th>timestamp</th>\n",
       "      <th>reportingGroup</th>\n",
       "      <th>locationName</th>\n",
       "      <th>value</th>\n",
       "      <th>unit</th>\n",
       "    </tr>\n",
       "  </thead>\n",
       "  <tbody>\n",
       "    <tr>\n",
       "      <th>0</th>\n",
       "      <td>2022-01-01 00:00:00</td>\n",
       "      <td>Electricity</td>\n",
       "      <td>1000 Hakaniemen kauppahalli</td>\n",
       "      <td>0.04</td>\n",
       "      <td>kWh</td>\n",
       "    </tr>\n",
       "    <tr>\n",
       "      <th>1</th>\n",
       "      <td>2022-01-01 01:00:00</td>\n",
       "      <td>Electricity</td>\n",
       "      <td>1000 Hakaniemen kauppahalli</td>\n",
       "      <td>0.05</td>\n",
       "      <td>kWh</td>\n",
       "    </tr>\n",
       "    <tr>\n",
       "      <th>2</th>\n",
       "      <td>2022-01-01 02:00:00</td>\n",
       "      <td>Electricity</td>\n",
       "      <td>1000 Hakaniemen kauppahalli</td>\n",
       "      <td>0.05</td>\n",
       "      <td>kWh</td>\n",
       "    </tr>\n",
       "    <tr>\n",
       "      <th>3</th>\n",
       "      <td>2022-01-01 03:00:00</td>\n",
       "      <td>Electricity</td>\n",
       "      <td>1000 Hakaniemen kauppahalli</td>\n",
       "      <td>0.06</td>\n",
       "      <td>kWh</td>\n",
       "    </tr>\n",
       "    <tr>\n",
       "      <th>4</th>\n",
       "      <td>2022-01-01 04:00:00</td>\n",
       "      <td>Electricity</td>\n",
       "      <td>1000 Hakaniemen kauppahalli</td>\n",
       "      <td>0.04</td>\n",
       "      <td>kWh</td>\n",
       "    </tr>\n",
       "  </tbody>\n",
       "</table>\n",
       "</div>"
      ],
      "text/plain": [
       "            timestamp reportingGroup                 locationName  value unit\n",
       "0 2022-01-01 00:00:00    Electricity  1000 Hakaniemen kauppahalli   0.04  kWh\n",
       "1 2022-01-01 01:00:00    Electricity  1000 Hakaniemen kauppahalli   0.05  kWh\n",
       "2 2022-01-01 02:00:00    Electricity  1000 Hakaniemen kauppahalli   0.05  kWh\n",
       "3 2022-01-01 03:00:00    Electricity  1000 Hakaniemen kauppahalli   0.06  kWh\n",
       "4 2022-01-01 04:00:00    Electricity  1000 Hakaniemen kauppahalli   0.04  kWh"
      ]
     },
     "execution_count": 56,
     "metadata": {},
     "output_type": "execute_result"
    }
   ],
   "source": [
    "print(f\"dataframe shape:{hourly_elect_2022_df.shape}\")\n",
    "hourly_elect_2022_df.head()"
   ]
  },
  {
   "cell_type": "markdown",
   "id": "c96d697a",
   "metadata": {},
   "source": [
    "### Water"
   ]
  },
  {
   "cell_type": "code",
   "execution_count": 57,
   "id": "bd6fa654",
   "metadata": {},
   "outputs": [],
   "source": [
    "hourly_water_2022_df = hp.get_request_as_df(period='Hourly',\n",
    "record=\"LocationName\",\n",
    "search_string=\"1000 Hakaniemen kauppahalli\",\n",
    "reporting_group=\"Water\",\n",
    "start_time=\"2022-01-01\",\n",
    "end_time=\"2022-12-31\",\n",
    "Normalization=False,\n",
    "version=1.0)"
   ]
  },
  {
   "cell_type": "code",
   "execution_count": 58,
   "id": "d738b6ed",
   "metadata": {},
   "outputs": [
    {
     "name": "stdout",
     "output_type": "stream",
     "text": [
      "dataframe shape:(2, 5)\n"
     ]
    },
    {
     "data": {
      "text/html": [
       "<div>\n",
       "<style scoped>\n",
       "    .dataframe tbody tr th:only-of-type {\n",
       "        vertical-align: middle;\n",
       "    }\n",
       "\n",
       "    .dataframe tbody tr th {\n",
       "        vertical-align: top;\n",
       "    }\n",
       "\n",
       "    .dataframe thead th {\n",
       "        text-align: right;\n",
       "    }\n",
       "</style>\n",
       "<table border=\"1\" class=\"dataframe\">\n",
       "  <thead>\n",
       "    <tr style=\"text-align: right;\">\n",
       "      <th></th>\n",
       "      <th>timestamp</th>\n",
       "      <th>reportingGroup</th>\n",
       "      <th>locationName</th>\n",
       "      <th>value</th>\n",
       "      <th>unit</th>\n",
       "    </tr>\n",
       "  </thead>\n",
       "  <tbody>\n",
       "    <tr>\n",
       "      <th>0</th>\n",
       "      <td>2022-09-08</td>\n",
       "      <td>Water</td>\n",
       "      <td>1000 Hakaniemen kauppahalli</td>\n",
       "      <td>7173</td>\n",
       "      <td>M3</td>\n",
       "    </tr>\n",
       "    <tr>\n",
       "      <th>1</th>\n",
       "      <td>2022-11-30</td>\n",
       "      <td>Water</td>\n",
       "      <td>1000 Hakaniemen kauppahalli</td>\n",
       "      <td>961</td>\n",
       "      <td>M3</td>\n",
       "    </tr>\n",
       "  </tbody>\n",
       "</table>\n",
       "</div>"
      ],
      "text/plain": [
       "   timestamp reportingGroup                 locationName  value unit\n",
       "0 2022-09-08          Water  1000 Hakaniemen kauppahalli   7173   M3\n",
       "1 2022-11-30          Water  1000 Hakaniemen kauppahalli    961   M3"
      ]
     },
     "execution_count": 58,
     "metadata": {},
     "output_type": "execute_result"
    }
   ],
   "source": [
    "print(f\"dataframe shape:{hourly_water_2022_df.shape}\")\n",
    "hourly_water_2022_df.head()"
   ]
  },
  {
   "cell_type": "markdown",
   "id": "0e7651f5",
   "metadata": {},
   "source": [
    "### Heat"
   ]
  },
  {
   "cell_type": "code",
   "execution_count": 59,
   "id": "2d011c8c",
   "metadata": {},
   "outputs": [],
   "source": [
    "hourly_heat_2022_df = hp.get_request_as_df(period='Hourly',\n",
    "record=\"LocationName\",\n",
    "search_string=\"1000 Hakaniemen kauppahalli\",\n",
    "reporting_group=\"Heat\",\n",
    "start_time=\"2022-01-01\",\n",
    "end_time=\"2022-12-31\",\n",
    "Normalization=True,\n",
    "version=1.0)"
   ]
  },
  {
   "cell_type": "code",
   "execution_count": 60,
   "id": "002793f9",
   "metadata": {},
   "outputs": [
    {
     "name": "stdout",
     "output_type": "stream",
     "text": [
      "dataframe shape:(8544, 5)\n"
     ]
    },
    {
     "data": {
      "text/html": [
       "<div>\n",
       "<style scoped>\n",
       "    .dataframe tbody tr th:only-of-type {\n",
       "        vertical-align: middle;\n",
       "    }\n",
       "\n",
       "    .dataframe tbody tr th {\n",
       "        vertical-align: top;\n",
       "    }\n",
       "\n",
       "    .dataframe thead th {\n",
       "        text-align: right;\n",
       "    }\n",
       "</style>\n",
       "<table border=\"1\" class=\"dataframe\">\n",
       "  <thead>\n",
       "    <tr style=\"text-align: right;\">\n",
       "      <th></th>\n",
       "      <th>timestamp</th>\n",
       "      <th>reportingGroup</th>\n",
       "      <th>locationName</th>\n",
       "      <th>value</th>\n",
       "      <th>unit</th>\n",
       "    </tr>\n",
       "  </thead>\n",
       "  <tbody>\n",
       "    <tr>\n",
       "      <th>0</th>\n",
       "      <td>2022-01-01 00:00:00</td>\n",
       "      <td>Heat</td>\n",
       "      <td>1000 Hakaniemen kauppahalli</td>\n",
       "      <td>110.10</td>\n",
       "      <td>kWh</td>\n",
       "    </tr>\n",
       "    <tr>\n",
       "      <th>1</th>\n",
       "      <td>2022-01-01 01:00:00</td>\n",
       "      <td>Heat</td>\n",
       "      <td>1000 Hakaniemen kauppahalli</td>\n",
       "      <td>111.30</td>\n",
       "      <td>kWh</td>\n",
       "    </tr>\n",
       "    <tr>\n",
       "      <th>2</th>\n",
       "      <td>2022-01-01 02:00:00</td>\n",
       "      <td>Heat</td>\n",
       "      <td>1000 Hakaniemen kauppahalli</td>\n",
       "      <td>110.80</td>\n",
       "      <td>kWh</td>\n",
       "    </tr>\n",
       "    <tr>\n",
       "      <th>3</th>\n",
       "      <td>2022-01-01 03:00:00</td>\n",
       "      <td>Heat</td>\n",
       "      <td>1000 Hakaniemen kauppahalli</td>\n",
       "      <td>110.00</td>\n",
       "      <td>kWh</td>\n",
       "    </tr>\n",
       "    <tr>\n",
       "      <th>4</th>\n",
       "      <td>2022-01-01 04:00:00</td>\n",
       "      <td>Heat</td>\n",
       "      <td>1000 Hakaniemen kauppahalli</td>\n",
       "      <td>111.70</td>\n",
       "      <td>kWh</td>\n",
       "    </tr>\n",
       "  </tbody>\n",
       "</table>\n",
       "</div>"
      ],
      "text/plain": [
       "            timestamp reportingGroup                 locationName  value unit\n",
       "0 2022-01-01 00:00:00           Heat  1000 Hakaniemen kauppahalli 110.10  kWh\n",
       "1 2022-01-01 01:00:00           Heat  1000 Hakaniemen kauppahalli 111.30  kWh\n",
       "2 2022-01-01 02:00:00           Heat  1000 Hakaniemen kauppahalli 110.80  kWh\n",
       "3 2022-01-01 03:00:00           Heat  1000 Hakaniemen kauppahalli 110.00  kWh\n",
       "4 2022-01-01 04:00:00           Heat  1000 Hakaniemen kauppahalli 111.70  kWh"
      ]
     },
     "execution_count": 60,
     "metadata": {},
     "output_type": "execute_result"
    }
   ],
   "source": [
    "print(f\"dataframe shape:{hourly_heat_2022_df.shape}\")\n",
    "hourly_heat_2022_df.head()"
   ]
  },
  {
   "cell_type": "code",
   "execution_count": 65,
   "id": "417c4ac8",
   "metadata": {},
   "outputs": [
    {
     "ename": "KeyboardInterrupt",
     "evalue": "",
     "output_type": "error",
     "traceback": [
      "\u001b[1;31m---------------------------------------------------------------------------\u001b[0m",
      "\u001b[1;31mKeyboardInterrupt\u001b[0m                         Traceback (most recent call last)",
      "Cell \u001b[1;32mIn[65], line 10\u001b[0m\n\u001b[0;32m      8\u001b[0m \u001b[38;5;28;01mfor\u001b[39;00m location \u001b[38;5;129;01min\u001b[39;00m location_names:\n\u001b[0;32m      9\u001b[0m     url \u001b[38;5;241m=\u001b[39m \u001b[38;5;124mf\u001b[39m\u001b[38;5;124m\"\u001b[39m\u001b[38;5;124mhttps://helsinki-openapi.nuuka.cloud/api/v1.0/EnergyData/Daily/ListByProperty?Record=LocationName&SearchString=\u001b[39m\u001b[38;5;132;01m{\u001b[39;00mlocation\u001b[38;5;132;01m}\u001b[39;00m\u001b[38;5;124m&ReportingGroup=Electricity&StartTime=2022-01-01&EndTime=2022-12-31\u001b[39m\u001b[38;5;124m\"\u001b[39m\n\u001b[1;32m---> 10\u001b[0m     response \u001b[38;5;241m=\u001b[39m \u001b[43mrequests\u001b[49m\u001b[38;5;241;43m.\u001b[39;49m\u001b[43mget\u001b[49m\u001b[43m(\u001b[49m\u001b[43murl\u001b[49m\u001b[43m)\u001b[49m\n\u001b[0;32m     11\u001b[0m     data \u001b[38;5;241m=\u001b[39m response\u001b[38;5;241m.\u001b[39mjson()\n\u001b[0;32m     12\u001b[0m     \u001b[38;5;28;01mif\u001b[39;00m \u001b[38;5;124m'\u001b[39m\u001b[38;5;124merrorCode\u001b[39m\u001b[38;5;124m'\u001b[39m \u001b[38;5;129;01mnot\u001b[39;00m \u001b[38;5;129;01min\u001b[39;00m data \u001b[38;5;129;01mor\u001b[39;00m data[\u001b[38;5;124m'\u001b[39m\u001b[38;5;124merrorCode\u001b[39m\u001b[38;5;124m'\u001b[39m] \u001b[38;5;241m!=\u001b[39m \u001b[38;5;124m'\u001b[39m\u001b[38;5;124mMissingSettingsException\u001b[39m\u001b[38;5;124m'\u001b[39m:\n",
      "File \u001b[1;32m~\\anaconda3\\envs\\automlenv\\lib\\site-packages\\requests\\api.py:73\u001b[0m, in \u001b[0;36mget\u001b[1;34m(url, params, **kwargs)\u001b[0m\n\u001b[0;32m     62\u001b[0m \u001b[38;5;28;01mdef\u001b[39;00m \u001b[38;5;21mget\u001b[39m(url, params\u001b[38;5;241m=\u001b[39m\u001b[38;5;28;01mNone\u001b[39;00m, \u001b[38;5;241m*\u001b[39m\u001b[38;5;241m*\u001b[39mkwargs):\n\u001b[0;32m     63\u001b[0m \u001b[38;5;250m    \u001b[39m\u001b[38;5;124mr\u001b[39m\u001b[38;5;124;03m\"\"\"Sends a GET request.\u001b[39;00m\n\u001b[0;32m     64\u001b[0m \n\u001b[0;32m     65\u001b[0m \u001b[38;5;124;03m    :param url: URL for the new :class:`Request` object.\u001b[39;00m\n\u001b[1;32m   (...)\u001b[0m\n\u001b[0;32m     70\u001b[0m \u001b[38;5;124;03m    :rtype: requests.Response\u001b[39;00m\n\u001b[0;32m     71\u001b[0m \u001b[38;5;124;03m    \"\"\"\u001b[39;00m\n\u001b[1;32m---> 73\u001b[0m     \u001b[38;5;28;01mreturn\u001b[39;00m request(\u001b[38;5;124m\"\u001b[39m\u001b[38;5;124mget\u001b[39m\u001b[38;5;124m\"\u001b[39m, url, params\u001b[38;5;241m=\u001b[39mparams, \u001b[38;5;241m*\u001b[39m\u001b[38;5;241m*\u001b[39mkwargs)\n",
      "File \u001b[1;32m~\\anaconda3\\envs\\automlenv\\lib\\site-packages\\requests\\api.py:59\u001b[0m, in \u001b[0;36mrequest\u001b[1;34m(method, url, **kwargs)\u001b[0m\n\u001b[0;32m     55\u001b[0m \u001b[38;5;66;03m# By using the 'with' statement we are sure the session is closed, thus we\u001b[39;00m\n\u001b[0;32m     56\u001b[0m \u001b[38;5;66;03m# avoid leaving sockets open which can trigger a ResourceWarning in some\u001b[39;00m\n\u001b[0;32m     57\u001b[0m \u001b[38;5;66;03m# cases, and look like a memory leak in others.\u001b[39;00m\n\u001b[0;32m     58\u001b[0m \u001b[38;5;28;01mwith\u001b[39;00m sessions\u001b[38;5;241m.\u001b[39mSession() \u001b[38;5;28;01mas\u001b[39;00m session:\n\u001b[1;32m---> 59\u001b[0m     \u001b[38;5;28;01mreturn\u001b[39;00m session\u001b[38;5;241m.\u001b[39mrequest(method\u001b[38;5;241m=\u001b[39mmethod, url\u001b[38;5;241m=\u001b[39murl, \u001b[38;5;241m*\u001b[39m\u001b[38;5;241m*\u001b[39mkwargs)\n",
      "File \u001b[1;32m~\\anaconda3\\envs\\automlenv\\lib\\site-packages\\requests\\sessions.py:589\u001b[0m, in \u001b[0;36mSession.request\u001b[1;34m(self, method, url, params, data, headers, cookies, files, auth, timeout, allow_redirects, proxies, hooks, stream, verify, cert, json)\u001b[0m\n\u001b[0;32m    584\u001b[0m send_kwargs \u001b[38;5;241m=\u001b[39m {\n\u001b[0;32m    585\u001b[0m     \u001b[38;5;124m\"\u001b[39m\u001b[38;5;124mtimeout\u001b[39m\u001b[38;5;124m\"\u001b[39m: timeout,\n\u001b[0;32m    586\u001b[0m     \u001b[38;5;124m\"\u001b[39m\u001b[38;5;124mallow_redirects\u001b[39m\u001b[38;5;124m\"\u001b[39m: allow_redirects,\n\u001b[0;32m    587\u001b[0m }\n\u001b[0;32m    588\u001b[0m send_kwargs\u001b[38;5;241m.\u001b[39mupdate(settings)\n\u001b[1;32m--> 589\u001b[0m resp \u001b[38;5;241m=\u001b[39m \u001b[38;5;28mself\u001b[39m\u001b[38;5;241m.\u001b[39msend(prep, \u001b[38;5;241m*\u001b[39m\u001b[38;5;241m*\u001b[39msend_kwargs)\n\u001b[0;32m    591\u001b[0m \u001b[38;5;28;01mreturn\u001b[39;00m resp\n",
      "File \u001b[1;32m~\\anaconda3\\envs\\automlenv\\lib\\site-packages\\requests\\sessions.py:703\u001b[0m, in \u001b[0;36mSession.send\u001b[1;34m(self, request, **kwargs)\u001b[0m\n\u001b[0;32m    700\u001b[0m start \u001b[38;5;241m=\u001b[39m preferred_clock()\n\u001b[0;32m    702\u001b[0m \u001b[38;5;66;03m# Send the request\u001b[39;00m\n\u001b[1;32m--> 703\u001b[0m r \u001b[38;5;241m=\u001b[39m adapter\u001b[38;5;241m.\u001b[39msend(request, \u001b[38;5;241m*\u001b[39m\u001b[38;5;241m*\u001b[39mkwargs)\n\u001b[0;32m    705\u001b[0m \u001b[38;5;66;03m# Total elapsed time of the request (approximately)\u001b[39;00m\n\u001b[0;32m    706\u001b[0m elapsed \u001b[38;5;241m=\u001b[39m preferred_clock() \u001b[38;5;241m-\u001b[39m start\n",
      "File \u001b[1;32m~\\anaconda3\\envs\\automlenv\\lib\\site-packages\\requests\\adapters.py:486\u001b[0m, in \u001b[0;36mHTTPAdapter.send\u001b[1;34m(self, request, stream, timeout, verify, cert, proxies)\u001b[0m\n\u001b[0;32m    483\u001b[0m     timeout \u001b[38;5;241m=\u001b[39m TimeoutSauce(connect\u001b[38;5;241m=\u001b[39mtimeout, read\u001b[38;5;241m=\u001b[39mtimeout)\n\u001b[0;32m    485\u001b[0m \u001b[38;5;28;01mtry\u001b[39;00m:\n\u001b[1;32m--> 486\u001b[0m     resp \u001b[38;5;241m=\u001b[39m \u001b[43mconn\u001b[49m\u001b[38;5;241;43m.\u001b[39;49m\u001b[43murlopen\u001b[49m\u001b[43m(\u001b[49m\n\u001b[0;32m    487\u001b[0m \u001b[43m        \u001b[49m\u001b[43mmethod\u001b[49m\u001b[38;5;241;43m=\u001b[39;49m\u001b[43mrequest\u001b[49m\u001b[38;5;241;43m.\u001b[39;49m\u001b[43mmethod\u001b[49m\u001b[43m,\u001b[49m\n\u001b[0;32m    488\u001b[0m \u001b[43m        \u001b[49m\u001b[43murl\u001b[49m\u001b[38;5;241;43m=\u001b[39;49m\u001b[43murl\u001b[49m\u001b[43m,\u001b[49m\n\u001b[0;32m    489\u001b[0m \u001b[43m        \u001b[49m\u001b[43mbody\u001b[49m\u001b[38;5;241;43m=\u001b[39;49m\u001b[43mrequest\u001b[49m\u001b[38;5;241;43m.\u001b[39;49m\u001b[43mbody\u001b[49m\u001b[43m,\u001b[49m\n\u001b[0;32m    490\u001b[0m \u001b[43m        \u001b[49m\u001b[43mheaders\u001b[49m\u001b[38;5;241;43m=\u001b[39;49m\u001b[43mrequest\u001b[49m\u001b[38;5;241;43m.\u001b[39;49m\u001b[43mheaders\u001b[49m\u001b[43m,\u001b[49m\n\u001b[0;32m    491\u001b[0m \u001b[43m        \u001b[49m\u001b[43mredirect\u001b[49m\u001b[38;5;241;43m=\u001b[39;49m\u001b[38;5;28;43;01mFalse\u001b[39;49;00m\u001b[43m,\u001b[49m\n\u001b[0;32m    492\u001b[0m \u001b[43m        \u001b[49m\u001b[43massert_same_host\u001b[49m\u001b[38;5;241;43m=\u001b[39;49m\u001b[38;5;28;43;01mFalse\u001b[39;49;00m\u001b[43m,\u001b[49m\n\u001b[0;32m    493\u001b[0m \u001b[43m        \u001b[49m\u001b[43mpreload_content\u001b[49m\u001b[38;5;241;43m=\u001b[39;49m\u001b[38;5;28;43;01mFalse\u001b[39;49;00m\u001b[43m,\u001b[49m\n\u001b[0;32m    494\u001b[0m \u001b[43m        \u001b[49m\u001b[43mdecode_content\u001b[49m\u001b[38;5;241;43m=\u001b[39;49m\u001b[38;5;28;43;01mFalse\u001b[39;49;00m\u001b[43m,\u001b[49m\n\u001b[0;32m    495\u001b[0m \u001b[43m        \u001b[49m\u001b[43mretries\u001b[49m\u001b[38;5;241;43m=\u001b[39;49m\u001b[38;5;28;43mself\u001b[39;49m\u001b[38;5;241;43m.\u001b[39;49m\u001b[43mmax_retries\u001b[49m\u001b[43m,\u001b[49m\n\u001b[0;32m    496\u001b[0m \u001b[43m        \u001b[49m\u001b[43mtimeout\u001b[49m\u001b[38;5;241;43m=\u001b[39;49m\u001b[43mtimeout\u001b[49m\u001b[43m,\u001b[49m\n\u001b[0;32m    497\u001b[0m \u001b[43m        \u001b[49m\u001b[43mchunked\u001b[49m\u001b[38;5;241;43m=\u001b[39;49m\u001b[43mchunked\u001b[49m\u001b[43m,\u001b[49m\n\u001b[0;32m    498\u001b[0m \u001b[43m    \u001b[49m\u001b[43m)\u001b[49m\n\u001b[0;32m    500\u001b[0m \u001b[38;5;28;01mexcept\u001b[39;00m (ProtocolError, \u001b[38;5;167;01mOSError\u001b[39;00m) \u001b[38;5;28;01mas\u001b[39;00m err:\n\u001b[0;32m    501\u001b[0m     \u001b[38;5;28;01mraise\u001b[39;00m \u001b[38;5;167;01mConnectionError\u001b[39;00m(err, request\u001b[38;5;241m=\u001b[39mrequest)\n",
      "File \u001b[1;32m~\\anaconda3\\envs\\automlenv\\lib\\site-packages\\urllib3\\connectionpool.py:714\u001b[0m, in \u001b[0;36mHTTPConnectionPool.urlopen\u001b[1;34m(self, method, url, body, headers, retries, redirect, assert_same_host, timeout, pool_timeout, release_conn, chunked, body_pos, **response_kw)\u001b[0m\n\u001b[0;32m    711\u001b[0m     \u001b[38;5;28mself\u001b[39m\u001b[38;5;241m.\u001b[39m_prepare_proxy(conn)\n\u001b[0;32m    713\u001b[0m \u001b[38;5;66;03m# Make the request on the httplib connection object.\u001b[39;00m\n\u001b[1;32m--> 714\u001b[0m httplib_response \u001b[38;5;241m=\u001b[39m \u001b[38;5;28;43mself\u001b[39;49m\u001b[38;5;241;43m.\u001b[39;49m\u001b[43m_make_request\u001b[49m\u001b[43m(\u001b[49m\n\u001b[0;32m    715\u001b[0m \u001b[43m    \u001b[49m\u001b[43mconn\u001b[49m\u001b[43m,\u001b[49m\n\u001b[0;32m    716\u001b[0m \u001b[43m    \u001b[49m\u001b[43mmethod\u001b[49m\u001b[43m,\u001b[49m\n\u001b[0;32m    717\u001b[0m \u001b[43m    \u001b[49m\u001b[43murl\u001b[49m\u001b[43m,\u001b[49m\n\u001b[0;32m    718\u001b[0m \u001b[43m    \u001b[49m\u001b[43mtimeout\u001b[49m\u001b[38;5;241;43m=\u001b[39;49m\u001b[43mtimeout_obj\u001b[49m\u001b[43m,\u001b[49m\n\u001b[0;32m    719\u001b[0m \u001b[43m    \u001b[49m\u001b[43mbody\u001b[49m\u001b[38;5;241;43m=\u001b[39;49m\u001b[43mbody\u001b[49m\u001b[43m,\u001b[49m\n\u001b[0;32m    720\u001b[0m \u001b[43m    \u001b[49m\u001b[43mheaders\u001b[49m\u001b[38;5;241;43m=\u001b[39;49m\u001b[43mheaders\u001b[49m\u001b[43m,\u001b[49m\n\u001b[0;32m    721\u001b[0m \u001b[43m    \u001b[49m\u001b[43mchunked\u001b[49m\u001b[38;5;241;43m=\u001b[39;49m\u001b[43mchunked\u001b[49m\u001b[43m,\u001b[49m\n\u001b[0;32m    722\u001b[0m \u001b[43m\u001b[49m\u001b[43m)\u001b[49m\n\u001b[0;32m    724\u001b[0m \u001b[38;5;66;03m# If we're going to release the connection in ``finally:``, then\u001b[39;00m\n\u001b[0;32m    725\u001b[0m \u001b[38;5;66;03m# the response doesn't need to know about the connection. Otherwise\u001b[39;00m\n\u001b[0;32m    726\u001b[0m \u001b[38;5;66;03m# it will also try to release it and we'll have a double-release\u001b[39;00m\n\u001b[0;32m    727\u001b[0m \u001b[38;5;66;03m# mess.\u001b[39;00m\n\u001b[0;32m    728\u001b[0m response_conn \u001b[38;5;241m=\u001b[39m conn \u001b[38;5;28;01mif\u001b[39;00m \u001b[38;5;129;01mnot\u001b[39;00m release_conn \u001b[38;5;28;01melse\u001b[39;00m \u001b[38;5;28;01mNone\u001b[39;00m\n",
      "File \u001b[1;32m~\\anaconda3\\envs\\automlenv\\lib\\site-packages\\urllib3\\connectionpool.py:466\u001b[0m, in \u001b[0;36mHTTPConnectionPool._make_request\u001b[1;34m(self, conn, method, url, timeout, chunked, **httplib_request_kw)\u001b[0m\n\u001b[0;32m    461\u001b[0m             httplib_response \u001b[38;5;241m=\u001b[39m conn\u001b[38;5;241m.\u001b[39mgetresponse()\n\u001b[0;32m    462\u001b[0m         \u001b[38;5;28;01mexcept\u001b[39;00m \u001b[38;5;167;01mBaseException\u001b[39;00m \u001b[38;5;28;01mas\u001b[39;00m e:\n\u001b[0;32m    463\u001b[0m             \u001b[38;5;66;03m# Remove the TypeError from the exception chain in\u001b[39;00m\n\u001b[0;32m    464\u001b[0m             \u001b[38;5;66;03m# Python 3 (including for exceptions like SystemExit).\u001b[39;00m\n\u001b[0;32m    465\u001b[0m             \u001b[38;5;66;03m# Otherwise it looks like a bug in the code.\u001b[39;00m\n\u001b[1;32m--> 466\u001b[0m             \u001b[43msix\u001b[49m\u001b[38;5;241;43m.\u001b[39;49m\u001b[43mraise_from\u001b[49m\u001b[43m(\u001b[49m\u001b[43me\u001b[49m\u001b[43m,\u001b[49m\u001b[43m \u001b[49m\u001b[38;5;28;43;01mNone\u001b[39;49;00m\u001b[43m)\u001b[49m\n\u001b[0;32m    467\u001b[0m \u001b[38;5;28;01mexcept\u001b[39;00m (SocketTimeout, BaseSSLError, SocketError) \u001b[38;5;28;01mas\u001b[39;00m e:\n\u001b[0;32m    468\u001b[0m     \u001b[38;5;28mself\u001b[39m\u001b[38;5;241m.\u001b[39m_raise_timeout(err\u001b[38;5;241m=\u001b[39me, url\u001b[38;5;241m=\u001b[39murl, timeout_value\u001b[38;5;241m=\u001b[39mread_timeout)\n",
      "File \u001b[1;32m<string>:3\u001b[0m, in \u001b[0;36mraise_from\u001b[1;34m(value, from_value)\u001b[0m\n",
      "File \u001b[1;32m~\\anaconda3\\envs\\automlenv\\lib\\site-packages\\urllib3\\connectionpool.py:461\u001b[0m, in \u001b[0;36mHTTPConnectionPool._make_request\u001b[1;34m(self, conn, method, url, timeout, chunked, **httplib_request_kw)\u001b[0m\n\u001b[0;32m    458\u001b[0m \u001b[38;5;28;01mexcept\u001b[39;00m \u001b[38;5;167;01mTypeError\u001b[39;00m:\n\u001b[0;32m    459\u001b[0m     \u001b[38;5;66;03m# Python 3\u001b[39;00m\n\u001b[0;32m    460\u001b[0m     \u001b[38;5;28;01mtry\u001b[39;00m:\n\u001b[1;32m--> 461\u001b[0m         httplib_response \u001b[38;5;241m=\u001b[39m \u001b[43mconn\u001b[49m\u001b[38;5;241;43m.\u001b[39;49m\u001b[43mgetresponse\u001b[49m\u001b[43m(\u001b[49m\u001b[43m)\u001b[49m\n\u001b[0;32m    462\u001b[0m     \u001b[38;5;28;01mexcept\u001b[39;00m \u001b[38;5;167;01mBaseException\u001b[39;00m \u001b[38;5;28;01mas\u001b[39;00m e:\n\u001b[0;32m    463\u001b[0m         \u001b[38;5;66;03m# Remove the TypeError from the exception chain in\u001b[39;00m\n\u001b[0;32m    464\u001b[0m         \u001b[38;5;66;03m# Python 3 (including for exceptions like SystemExit).\u001b[39;00m\n\u001b[0;32m    465\u001b[0m         \u001b[38;5;66;03m# Otherwise it looks like a bug in the code.\u001b[39;00m\n\u001b[0;32m    466\u001b[0m         six\u001b[38;5;241m.\u001b[39mraise_from(e, \u001b[38;5;28;01mNone\u001b[39;00m)\n",
      "File \u001b[1;32m~\\anaconda3\\envs\\automlenv\\lib\\http\\client.py:1377\u001b[0m, in \u001b[0;36mHTTPConnection.getresponse\u001b[1;34m(self)\u001b[0m\n\u001b[0;32m   1375\u001b[0m \u001b[38;5;28;01mtry\u001b[39;00m:\n\u001b[0;32m   1376\u001b[0m     \u001b[38;5;28;01mtry\u001b[39;00m:\n\u001b[1;32m-> 1377\u001b[0m         \u001b[43mresponse\u001b[49m\u001b[38;5;241;43m.\u001b[39;49m\u001b[43mbegin\u001b[49m\u001b[43m(\u001b[49m\u001b[43m)\u001b[49m\n\u001b[0;32m   1378\u001b[0m     \u001b[38;5;28;01mexcept\u001b[39;00m \u001b[38;5;167;01mConnectionError\u001b[39;00m:\n\u001b[0;32m   1379\u001b[0m         \u001b[38;5;28mself\u001b[39m\u001b[38;5;241m.\u001b[39mclose()\n",
      "File \u001b[1;32m~\\anaconda3\\envs\\automlenv\\lib\\http\\client.py:320\u001b[0m, in \u001b[0;36mHTTPResponse.begin\u001b[1;34m(self)\u001b[0m\n\u001b[0;32m    318\u001b[0m \u001b[38;5;66;03m# read until we get a non-100 response\u001b[39;00m\n\u001b[0;32m    319\u001b[0m \u001b[38;5;28;01mwhile\u001b[39;00m \u001b[38;5;28;01mTrue\u001b[39;00m:\n\u001b[1;32m--> 320\u001b[0m     version, status, reason \u001b[38;5;241m=\u001b[39m \u001b[38;5;28;43mself\u001b[39;49m\u001b[38;5;241;43m.\u001b[39;49m\u001b[43m_read_status\u001b[49m\u001b[43m(\u001b[49m\u001b[43m)\u001b[49m\n\u001b[0;32m    321\u001b[0m     \u001b[38;5;28;01mif\u001b[39;00m status \u001b[38;5;241m!=\u001b[39m CONTINUE:\n\u001b[0;32m    322\u001b[0m         \u001b[38;5;28;01mbreak\u001b[39;00m\n",
      "File \u001b[1;32m~\\anaconda3\\envs\\automlenv\\lib\\http\\client.py:281\u001b[0m, in \u001b[0;36mHTTPResponse._read_status\u001b[1;34m(self)\u001b[0m\n\u001b[0;32m    280\u001b[0m \u001b[38;5;28;01mdef\u001b[39;00m \u001b[38;5;21m_read_status\u001b[39m(\u001b[38;5;28mself\u001b[39m):\n\u001b[1;32m--> 281\u001b[0m     line \u001b[38;5;241m=\u001b[39m \u001b[38;5;28mstr\u001b[39m(\u001b[38;5;28;43mself\u001b[39;49m\u001b[38;5;241;43m.\u001b[39;49m\u001b[43mfp\u001b[49m\u001b[38;5;241;43m.\u001b[39;49m\u001b[43mreadline\u001b[49m\u001b[43m(\u001b[49m\u001b[43m_MAXLINE\u001b[49m\u001b[43m \u001b[49m\u001b[38;5;241;43m+\u001b[39;49m\u001b[43m \u001b[49m\u001b[38;5;241;43m1\u001b[39;49m\u001b[43m)\u001b[49m, \u001b[38;5;124m\"\u001b[39m\u001b[38;5;124miso-8859-1\u001b[39m\u001b[38;5;124m\"\u001b[39m)\n\u001b[0;32m    282\u001b[0m     \u001b[38;5;28;01mif\u001b[39;00m \u001b[38;5;28mlen\u001b[39m(line) \u001b[38;5;241m>\u001b[39m _MAXLINE:\n\u001b[0;32m    283\u001b[0m         \u001b[38;5;28;01mraise\u001b[39;00m LineTooLong(\u001b[38;5;124m\"\u001b[39m\u001b[38;5;124mstatus line\u001b[39m\u001b[38;5;124m\"\u001b[39m)\n",
      "File \u001b[1;32m~\\anaconda3\\envs\\automlenv\\lib\\socket.py:704\u001b[0m, in \u001b[0;36mSocketIO.readinto\u001b[1;34m(self, b)\u001b[0m\n\u001b[0;32m    702\u001b[0m \u001b[38;5;28;01mwhile\u001b[39;00m \u001b[38;5;28;01mTrue\u001b[39;00m:\n\u001b[0;32m    703\u001b[0m     \u001b[38;5;28;01mtry\u001b[39;00m:\n\u001b[1;32m--> 704\u001b[0m         \u001b[38;5;28;01mreturn\u001b[39;00m \u001b[38;5;28;43mself\u001b[39;49m\u001b[38;5;241;43m.\u001b[39;49m\u001b[43m_sock\u001b[49m\u001b[38;5;241;43m.\u001b[39;49m\u001b[43mrecv_into\u001b[49m\u001b[43m(\u001b[49m\u001b[43mb\u001b[49m\u001b[43m)\u001b[49m\n\u001b[0;32m    705\u001b[0m     \u001b[38;5;28;01mexcept\u001b[39;00m timeout:\n\u001b[0;32m    706\u001b[0m         \u001b[38;5;28mself\u001b[39m\u001b[38;5;241m.\u001b[39m_timeout_occurred \u001b[38;5;241m=\u001b[39m \u001b[38;5;28;01mTrue\u001b[39;00m\n",
      "File \u001b[1;32m~\\anaconda3\\envs\\automlenv\\lib\\ssl.py:1242\u001b[0m, in \u001b[0;36mSSLSocket.recv_into\u001b[1;34m(self, buffer, nbytes, flags)\u001b[0m\n\u001b[0;32m   1238\u001b[0m     \u001b[38;5;28;01mif\u001b[39;00m flags \u001b[38;5;241m!=\u001b[39m \u001b[38;5;241m0\u001b[39m:\n\u001b[0;32m   1239\u001b[0m         \u001b[38;5;28;01mraise\u001b[39;00m \u001b[38;5;167;01mValueError\u001b[39;00m(\n\u001b[0;32m   1240\u001b[0m           \u001b[38;5;124m\"\u001b[39m\u001b[38;5;124mnon-zero flags not allowed in calls to recv_into() on \u001b[39m\u001b[38;5;132;01m%s\u001b[39;00m\u001b[38;5;124m\"\u001b[39m \u001b[38;5;241m%\u001b[39m\n\u001b[0;32m   1241\u001b[0m           \u001b[38;5;28mself\u001b[39m\u001b[38;5;241m.\u001b[39m\u001b[38;5;18m__class__\u001b[39m)\n\u001b[1;32m-> 1242\u001b[0m     \u001b[38;5;28;01mreturn\u001b[39;00m \u001b[38;5;28;43mself\u001b[39;49m\u001b[38;5;241;43m.\u001b[39;49m\u001b[43mread\u001b[49m\u001b[43m(\u001b[49m\u001b[43mnbytes\u001b[49m\u001b[43m,\u001b[49m\u001b[43m \u001b[49m\u001b[43mbuffer\u001b[49m\u001b[43m)\u001b[49m\n\u001b[0;32m   1243\u001b[0m \u001b[38;5;28;01melse\u001b[39;00m:\n\u001b[0;32m   1244\u001b[0m     \u001b[38;5;28;01mreturn\u001b[39;00m \u001b[38;5;28msuper\u001b[39m()\u001b[38;5;241m.\u001b[39mrecv_into(buffer, nbytes, flags)\n",
      "File \u001b[1;32m~\\anaconda3\\envs\\automlenv\\lib\\ssl.py:1100\u001b[0m, in \u001b[0;36mSSLSocket.read\u001b[1;34m(self, len, buffer)\u001b[0m\n\u001b[0;32m   1098\u001b[0m \u001b[38;5;28;01mtry\u001b[39;00m:\n\u001b[0;32m   1099\u001b[0m     \u001b[38;5;28;01mif\u001b[39;00m buffer \u001b[38;5;129;01mis\u001b[39;00m \u001b[38;5;129;01mnot\u001b[39;00m \u001b[38;5;28;01mNone\u001b[39;00m:\n\u001b[1;32m-> 1100\u001b[0m         \u001b[38;5;28;01mreturn\u001b[39;00m \u001b[38;5;28;43mself\u001b[39;49m\u001b[38;5;241;43m.\u001b[39;49m\u001b[43m_sslobj\u001b[49m\u001b[38;5;241;43m.\u001b[39;49m\u001b[43mread\u001b[49m\u001b[43m(\u001b[49m\u001b[38;5;28;43mlen\u001b[39;49m\u001b[43m,\u001b[49m\u001b[43m \u001b[49m\u001b[43mbuffer\u001b[49m\u001b[43m)\u001b[49m\n\u001b[0;32m   1101\u001b[0m     \u001b[38;5;28;01melse\u001b[39;00m:\n\u001b[0;32m   1102\u001b[0m         \u001b[38;5;28;01mreturn\u001b[39;00m \u001b[38;5;28mself\u001b[39m\u001b[38;5;241m.\u001b[39m_sslobj\u001b[38;5;241m.\u001b[39mread(\u001b[38;5;28mlen\u001b[39m)\n",
      "\u001b[1;31mKeyboardInterrupt\u001b[0m: "
     ]
    }
   ],
   "source": [
    "# list of location names with space replacement\n",
    "location_names = [location.replace(\" \", \"%20\") for location in property_list['locationName']]\n",
    "\n",
    "# List to store URLs with valid JSON data\n",
    "valid_urls = []\n",
    "\n",
    "# Fetching data for each location for the 2022\n",
    "for location in location_names:\n",
    "    url = f\"https://helsinki-openapi.nuuka.cloud/api/v1.0/EnergyData/Daily/ListByProperty?Record=LocationName&SearchString={location}&ReportingGroup=Electricity&StartTime=2022-01-01&EndTime=2022-12-31\"\n",
    "    response = requests.get(url)\n",
    "    data = response.json()\n",
    "    if 'errorCode' not in data or data['errorCode'] != 'MissingSettingsException':\n",
    "        valid_urls.append(url)\n",
    "\n",
    "# Creating a folder to store the JSON files\n",
    "folder_name = \"energy_data_2022\"\n",
    "os.makedirs(folder_name, exist_ok=True)\n",
    "\n",
    "# Save data from each valid URL as a separate JSON file in the folder\n",
    "for index, url in enumerate(valid_urls):\n",
    "    response = requests.get(url)\n",
    "    data = response.json()\n",
    "    filename = f\"data_{index}.json\"\n",
    "    file_path = os.path.join(folder_name, filename)\n",
    "    with open(file_path, 'w') as file:\n",
    "        json.dump(data, file)\n",
    "    print(f\"Data saved for URL: {url} (filename: {filename})\")\n",
    "\n",
    "print(\"Data saved successfully.\")\n"
   ]
  },
  {
   "cell_type": "markdown",
   "id": "15445d4e",
   "metadata": {},
   "source": [
    "# 2023"
   ]
  },
  {
   "cell_type": "markdown",
   "id": "ef91fca1",
   "metadata": {},
   "source": [
    "### District Cooling"
   ]
  },
  {
   "cell_type": "code",
   "execution_count": 61,
   "id": "b82a70cb",
   "metadata": {},
   "outputs": [],
   "source": [
    "daily_elect_df = hp.get_request_as_df(period='Hourly',\n",
    "record=\"LocationName\",\n",
    "search_string=\"1000 Hakaniemen kauppahalli\",\n",
    "reporting_group=\"Electricity\",\n",
    "start_time=\"2022-01-01\",\n",
    "end_time=\"2022-12-31\",\n",
    "Normalization=False,\n",
    "version=1.0)"
   ]
  },
  {
   "cell_type": "markdown",
   "id": "10d0c35d",
   "metadata": {},
   "source": [
    "## function to get hourly, daily or monthly data"
   ]
  },
  {
   "cell_type": "code",
   "execution_count": null,
   "id": "94fcff44",
   "metadata": {},
   "outputs": [],
   "source": [
    "check = get_request_as_json(period='Hourly',\n",
    "record=\"LocationName\",\n",
    "search_string=\"1000 Hakaniemen kauppahalli\",\n",
    "reporting_group=\"Water\",\n",
    "start_time=\"2022-01-01\",\n",
    "end_time=\"2022-12-31\",\n",
    "Normalization=False,\n",
    "version=1.0)"
   ]
  },
  {
   "cell_type": "code",
   "execution_count": null,
   "id": "47a4d092",
   "metadata": {},
   "outputs": [],
   "source": []
  },
  {
   "cell_type": "code",
   "execution_count": null,
   "id": "38dab536",
   "metadata": {},
   "outputs": [],
   "source": []
  },
  {
   "cell_type": "code",
   "execution_count": null,
   "id": "1adf6a53",
   "metadata": {},
   "outputs": [],
   "source": []
  },
  {
   "cell_type": "code",
   "execution_count": null,
   "id": "fa81bdf5",
   "metadata": {},
   "outputs": [],
   "source": []
  },
  {
   "cell_type": "code",
   "execution_count": null,
   "id": "85478e06",
   "metadata": {},
   "outputs": [],
   "source": []
  },
  {
   "cell_type": "code",
   "execution_count": null,
   "id": "ed234eec",
   "metadata": {},
   "outputs": [],
   "source": []
  },
  {
   "cell_type": "code",
   "execution_count": null,
   "id": "973a5349",
   "metadata": {},
   "outputs": [],
   "source": []
  },
  {
   "cell_type": "code",
   "execution_count": null,
   "id": "ae43f972",
   "metadata": {},
   "outputs": [],
   "source": [
    "def get_daily_consumption(\n",
    "    record=None,\n",
    "    search_string=None,\n",
    "    reporting_group=None,\n",
    "    start_time=None,\n",
    "    end_time=None,\n",
    "    Normalization=True,\n",
    "    version=None\n",
    "):\n",
    "    # get a dictionary of all possible arguement\n",
    "    all_args = locals()\n",
    "    \n",
    "    #fiter out the set arguements\n",
    "    set_args = {k: v for k,v in all_args.items() if v is not None and k !='Normalization'}# and k != 'Normalization'\n",
    "    \n",
    "    # get a list of all values from the dict \"set_args\"\n",
    "    set_args_list = list(set_args.values())\n",
    "    \n",
    "    if 'PropertyCode' in list(set_args.values()):\n",
    "        #construct the url for API access\n",
    "        url = 'https://helsinki-openapi.nuuka.cloud/api/v{}/EnergyData/Daily/ListByProperty?Record={}&SearchString={}&ReportingGroup={}&StartTime={}&EndTime={}'\n",
    "        a1,b1,c1,d1,e1,f1 = set_args_list[5],set_args_list[0],set_args_list[1],set_args_list[2],set_args_list[3],set_args_list[4]\n",
    "        access_link1 = url.format(a1,b1,c1,d1,e1,f1)\n",
    "        response1 = requests.get(access_link1)\n",
    "        data1 = response1.text\n",
    "        data_df1 = pd.read_json(data1)\n",
    "        return data_df1\n",
    "        \n",
    "    else:\n",
    "        \n",
    "        #construct the url for API access\n",
    "        record_1 = set_args_list[1].replace(\" \",\"%20\")\n",
    "        url = 'https://helsinki-openapi.nuuka.cloud/api/v{}/EnergyData/Daily/ListByProperty?Record={}&SearchString={}&ReportingGroup={}&StartTime={}&EndTime={}'\n",
    "        a2,b2,c2,d2,e2,f2 = set_args_list[5],set_args_list[0],record_1,set_args_list[2],set_args_list[3],set_args_list[4]\n",
    "        access_link2 = url.format(a2,b2,c2,d2,e2,f2)\n",
    "        response2 = requests.get(access_link2)\n",
    "        data2 = response2.text\n",
    "        data_df2 = pd.read_json(data2)\n",
    "        return data_df2\n",
    "    \n",
    "def get_monthly_consumption(\n",
    "    record=None,\n",
    "    search_string=None,\n",
    "    reporting_group=None,\n",
    "    start_time=None,\n",
    "    end_time=None,\n",
    "    Normalization=True,\n",
    "    version=None\n",
    "):\n",
    "    # get a dictionary of all possible arguement\n",
    "    all_args = locals()\n",
    "    \n",
    "    #fiter out the set arguements\n",
    "    set_args = {k: v for k,v in all_args.items() if v is not None and k !='Normalization'}# and k != 'Normalization'\n",
    "    \n",
    "    # get a list of all values from the dict \"set_args\"\n",
    "    set_args_list = list(set_args.values())\n",
    "    \n",
    "    if 'PropertyCode' in list(set_args.values()):\n",
    "        #construct the url for API access\n",
    "        url = 'https://helsinki-openapi.nuuka.cloud/api/v{}/EnergyData/Monthly/ListByProperty?Record={}&SearchString={}&ReportingGroup={}&StartTime={}&EndTime={}'\n",
    "        a1,b1,c1,d1,e1,f1 = set_args_list[5],set_args_list[0],set_args_list[1],set_args_list[2],set_args_list[3],set_args_list[4]\n",
    "        access_link1 = url.format(a1,b1,c1,d1,e1,f1)\n",
    "        response1 = requests.get(access_link1)\n",
    "        data1 = response1.text\n",
    "        data_df1 = pd.read_json(data1)\n",
    "        return data_df1\n",
    "        \n",
    "    else:\n",
    "        \n",
    "        #construct the url for API access\n",
    "        record_1 = set_args_list[1].replace(\" \",\"%20\")\n",
    "        url = 'https://helsinki-openapi.nuuka.cloud/api/v{}/EnergyData/Monthly/ListByProperty?Record={}&SearchString={}&ReportingGroup={}&StartTime={}&EndTime={}'\n",
    "        a2,b2,c2,d2,e2,f2 = set_args_list[5],set_args_list[0],record_1,set_args_list[2],set_args_list[3],set_args_list[4]\n",
    "        access_link2 = url.format(a2,b2,c2,d2,e2,f2)\n",
    "        response2 = requests.get(access_link2)\n",
    "        data2 = response2.text\n",
    "        data_df2 = pd.read_json(data2)\n",
    "        return data_df2  \n",
    "    \n",
    "def get_hourly_consumption(\n",
    "    record=None,\n",
    "    search_string=None,\n",
    "    reporting_group=None,\n",
    "    start_time=None,\n",
    "    end_time=None,\n",
    "    Normalization=True,\n",
    "    version=None\n",
    "):\n",
    "    # get a dictionary of all possible arguement\n",
    "    all_args = locals()\n",
    "    \n",
    "    #fiter out the set arguements\n",
    "    set_args = {k: v for k,v in all_args.items() if v is not None and k !='Normalization'}# and k != 'Normalization'\n",
    "    \n",
    "    # get a list of all values from the dict \"set_args\"\n",
    "    set_args_list = list(set_args.values())\n",
    "    \n",
    "    if 'PropertyCode' in list(set_args.values()):\n",
    "        #construct the url for API access\n",
    "        url = 'https://helsinki-openapi.nuuka.cloud/api/v{}/EnergyData/Hourly/ListByProperty?Record={}&SearchString={}&ReportingGroup={}&StartTime={}&EndTime={}'\n",
    "        a1,b1,c1,d1,e1,f1 = set_args_list[5],set_args_list[0],set_args_list[1],set_args_list[2],set_args_list[3],set_args_list[4]\n",
    "        access_link1 = url.format(a1,b1,c1,d1,e1,f1)\n",
    "        response1 = requests.get(access_link1)\n",
    "        data1 = response1.text\n",
    "        data_df1 = pd.read_json(data1)\n",
    "        return data_df1\n",
    "        \n",
    "    else:\n",
    "        \n",
    "        #construct the url for API access\n",
    "        record_1 = set_args_list[1].replace(\" \",\"%20\")\n",
    "        url = 'https://helsinki-openapi.nuuka.cloud/api/v{}/EnergyData/Hourly/ListByProperty?Record={}&SearchString={}&ReportingGroup={}&StartTime={}&EndTime={}'\n",
    "        a2,b2,c2,d2,e2,f2 = set_args_list[5],set_args_list[0],record_1,set_args_list[2],set_args_list[3],set_args_list[4]\n",
    "        access_link2 = url.format(a2,b2,c2,d2,e2,f2)\n",
    "        response2 = requests.get(access_link2)\n",
    "        data2 = response2.text\n",
    "        data_df2 = pd.read_json(data2)\n",
    "        return data_df2\n"
   ]
  },
  {
   "cell_type": "markdown",
   "id": "37638de8",
   "metadata": {},
   "source": [
    "## Data collection"
   ]
  },
  {
   "cell_type": "markdown",
   "id": "d52daab3",
   "metadata": {},
   "source": [
    "### Get the list of all properties"
   ]
  },
  {
   "cell_type": "code",
   "execution_count": null,
   "id": "b30a86d7",
   "metadata": {},
   "outputs": [],
   "source": [
    "url = \"https://helsinki-openapi.nuuka.cloud/api/v1.0/Property/List\"\n",
    "list_of_prpt_df = get_list_of_properties(url)\n",
    "print(f\"shape of property list dataframe is:{list_of_prpt_df.shape}\")\n",
    "list_of_prpt_df.head()"
   ]
  },
  {
   "cell_type": "markdown",
   "id": "34d33339",
   "metadata": {},
   "source": [
    "### Electricity consumption for 2022 (hourly, daily and monthly for 1000 Hakaniemen kauppahalli)"
   ]
  },
  {
   "cell_type": "markdown",
   "id": "07f165a6",
   "metadata": {},
   "source": [
    "## Hourly"
   ]
  },
  {
   "cell_type": "code",
   "execution_count": null,
   "id": "52d52723",
   "metadata": {},
   "outputs": [],
   "source": [
    "elect_data_2022_hr = get_hourly_consumption(record=\"LocationName\",\n",
    "search_string=\"1000 Hakaniemen kauppahalli\",\n",
    "reporting_group=\"Electricity\",\n",
    "start_time=\"2022-01-01\",\n",
    "end_time=\"2022-12-31\",\n",
    "Normalization=False,\n",
    "version=1.0)"
   ]
  },
  {
   "cell_type": "code",
   "execution_count": null,
   "id": "5dbd41cc",
   "metadata": {},
   "outputs": [],
   "source": [
    "print(f\"hourly data shape:{elect_data_2022_hr.shape}\")\n",
    "elect_data_2022_hr.head()"
   ]
  },
  {
   "cell_type": "markdown",
   "id": "b2965907",
   "metadata": {},
   "source": [
    "#### Decsriptive statistics of hourly electricity data"
   ]
  },
  {
   "cell_type": "code",
   "execution_count": null,
   "id": "867d8e1e",
   "metadata": {},
   "outputs": [],
   "source": [
    "elect_data_2022_hr['value'].describe()"
   ]
  },
  {
   "cell_type": "markdown",
   "id": "233bdbfd",
   "metadata": {},
   "source": [
    "## Daily"
   ]
  },
  {
   "cell_type": "code",
   "execution_count": null,
   "id": "e8681186",
   "metadata": {},
   "outputs": [],
   "source": [
    "elect_data_2022_daily = get_daily_consumption(record=\"LocationName\",\n",
    "search_string=\"1000 Hakaniemen kauppahalli\",\n",
    "reporting_group=\"Electricity\",\n",
    "start_time=\"2022-01-01\",\n",
    "end_time=\"2022-12-31\",\n",
    "Normalization=False,\n",
    "version=1.0)"
   ]
  },
  {
   "cell_type": "code",
   "execution_count": null,
   "id": "5d133507",
   "metadata": {},
   "outputs": [],
   "source": [
    "print(f\"hourly data shape:{elect_data_2022_daily.shape}\")\n",
    "elect_data_2022_daily.head()"
   ]
  },
  {
   "cell_type": "markdown",
   "id": "af7c947d",
   "metadata": {},
   "source": [
    "## Monthly"
   ]
  },
  {
   "cell_type": "code",
   "execution_count": null,
   "id": "d2169905",
   "metadata": {},
   "outputs": [],
   "source": [
    "elect_data_2022_monthly = get_monthly_consumption(record=\"LocationName\",\n",
    "search_string=\"1000 Hakaniemen kauppahalli\",\n",
    "reporting_group=\"Electricity\",\n",
    "start_time=\"2022-01-01\",\n",
    "end_time=\"2022-12-31\",\n",
    "Normalization=False,\n",
    "version=1.0)"
   ]
  },
  {
   "cell_type": "code",
   "execution_count": null,
   "id": "e835b2c9",
   "metadata": {},
   "outputs": [],
   "source": [
    "print(f\"hourly data shape:{elect_data_2022_monthly.shape}\")\n",
    "elect_data_2022_monthly.head()"
   ]
  },
  {
   "cell_type": "code",
   "execution_count": null,
   "id": "d298d70f",
   "metadata": {},
   "outputs": [],
   "source": [
    "list_of_prpt_df.info()"
   ]
  },
  {
   "cell_type": "code",
   "execution_count": null,
   "id": "f14a7f43",
   "metadata": {},
   "outputs": [],
   "source": [
    "list_of_prpt_df.isna().sum()"
   ]
  },
  {
   "cell_type": "code",
   "execution_count": null,
   "id": "db4090af",
   "metadata": {},
   "outputs": [],
   "source": [
    "null_property_name = list_of_prpt_df[list_of_prpt_df['propertyName'].isna()]\n",
    "null_property_name"
   ]
  },
  {
   "cell_type": "code",
   "execution_count": null,
   "id": "de5bc185",
   "metadata": {},
   "outputs": [],
   "source": [
    "null_property_code = list_of_prpt_df[list_of_prpt_df['propertyCode'].isna()]\n",
    "null_property_code"
   ]
  },
  {
   "cell_type": "markdown",
   "id": "cba1bfdc",
   "metadata": {},
   "source": [
    "**Observation on list of properties:**\n",
    "    \n",
    "    1. New property 1 and 2 is duplicated \n",
    "    2. 2352 Lpk oulunkylän lisätilat and 2316 Lpk Kumpupilvi has no property code\n",
    "    3. There are 4 missing data in Property_name and 6 in Property_code\n",
    "    \n",
    "**Fix:**\n",
    "    Missing data in property name can be resolved since it is the same as location_name\n",
    " "
   ]
  },
  {
   "cell_type": "markdown",
   "id": "7eff9bb2",
   "metadata": {},
   "source": [
    "#### Fill missing property_name"
   ]
  },
  {
   "cell_type": "code",
   "execution_count": null,
   "id": "aebb2894",
   "metadata": {},
   "outputs": [],
   "source": [
    "list_of_prpt_df.loc[600:, 'propertyName'] = list_of_prpt_df['locationName']"
   ]
  },
  {
   "cell_type": "code",
   "execution_count": null,
   "id": "aacc375b",
   "metadata": {},
   "outputs": [],
   "source": [
    "list_of_prpt_df.isna().sum()"
   ]
  },
  {
   "cell_type": "code",
   "execution_count": null,
   "id": "5fd412e7",
   "metadata": {},
   "outputs": [],
   "source": [
    "null_property_name = list_of_prpt_df[list_of_prpt_df['propertyCode'].isna()]\n",
    "null_property_name"
   ]
  },
  {
   "cell_type": "code",
   "execution_count": null,
   "id": "7acdc001",
   "metadata": {},
   "outputs": [],
   "source": [
    "list_of_prpt_df['propertyName'].nunique() "
   ]
  },
  {
   "cell_type": "markdown",
   "id": "a04ee585",
   "metadata": {},
   "source": [
    "## Get electricity usage of \"1000 Hakaniemen kauppahalli\" for 2019"
   ]
  },
  {
   "cell_type": "code",
   "execution_count": null,
   "id": "aade6461",
   "metadata": {},
   "outputs": [],
   "source": [
    "# get the daily electricity usage for this property for 2019\n",
    "response = requests.get(f\"https://helsinki-openapi.nuuka.cloud/api/v1.0/EnergyData/Daily/ListByProperty?Record=LocationName&SearchString=1000%20Hakaniemen%20kauppahalli&ReportingGroup=Electricity&StartTime=2019-01-01&EndTime=2019-12-31\")\n",
    "print(response.status_code)\n",
    "hakaniemen_kaupa_1000_data = response.text\n",
    "hakaniemen_kaupa_1000_df = pd.read_json(hakaniemen_kaupa_1000_data)\n",
    "print(f\"hakaniemen_kaupa_1000_df shape:{hakaniemen_kaupa_1000_df.shape}\")\n",
    "hakaniemen_kaupa_1000_df.head()"
   ]
  },
  {
   "cell_type": "markdown",
   "id": "82476493",
   "metadata": {},
   "source": [
    "### Data type inspection"
   ]
  },
  {
   "cell_type": "code",
   "execution_count": null,
   "id": "6ecbe4cb",
   "metadata": {},
   "outputs": [],
   "source": [
    "# summary statistics\n",
    "hakaniemen_kaupa_1000_df .info()"
   ]
  },
  {
   "cell_type": "markdown",
   "id": "ad4d37b7",
   "metadata": {},
   "source": [
    "## Central and dispersion measure"
   ]
  },
  {
   "cell_type": "code",
   "execution_count": null,
   "id": "c4c6db1c",
   "metadata": {},
   "outputs": [],
   "source": [
    "hakaniemen_kaupa_1000_df.describe()"
   ]
  },
  {
   "cell_type": "markdown",
   "id": "b1426277",
   "metadata": {},
   "source": [
    "### Distribution of the electricity usage"
   ]
  },
  {
   "cell_type": "code",
   "execution_count": null,
   "id": "2013a47e",
   "metadata": {},
   "outputs": [],
   "source": [
    "# Plot the distribution of the propery electricity usage\n",
    "sns.histplot(data=hakaniemen_kaupa_1000_df, x=hakaniemen_kaupa_1000_df['value'], kde=True)\n",
    "plt.show()"
   ]
  },
  {
   "cell_type": "code",
   "execution_count": null,
   "id": "05124c97",
   "metadata": {},
   "outputs": [],
   "source": []
  },
  {
   "cell_type": "markdown",
   "id": "416844d8",
   "metadata": {},
   "source": [
    "### Monthly Consumption"
   ]
  },
  {
   "cell_type": "code",
   "execution_count": null,
   "id": "8befaf67",
   "metadata": {},
   "outputs": [],
   "source": [
    "# get the daily electricity usage for this property for 2019\n",
    "response = requests.get(f\"https://helsinki-openapi.nuuka.cloud/api/v1.0/EnergyData/Monthly/ListByProperty?Record=LocationName&SearchString=1000%20Hakaniemen%20kauppahalli&ReportingGroup=Electricity&StartTime=2019-01-01&EndTime=2019-12-31\")\n",
    "print(response.status_code)\n",
    "hakaniemen_kaupa_monthly_data = response.text\n",
    "hakaniemen_kaupa_monthly_df = pd.read_json(hakaniemen_kaupa_monthly_data)\n",
    "print(f\"hakaniemen_kaupa_monthly_df shape:{hakaniemen_kaupa_monthly_df.shape}\")\n",
    "hakaniemen_kaupa_monthly_df.head()"
   ]
  },
  {
   "cell_type": "code",
   "execution_count": null,
   "id": "6ac70ca2",
   "metadata": {},
   "outputs": [],
   "source": [
    "hakaniemen_kaupa_monthly_df['month'] = pd.to_datetime()"
   ]
  },
  {
   "cell_type": "code",
   "execution_count": null,
   "id": "696d584a",
   "metadata": {},
   "outputs": [],
   "source": [
    "hakaniemen_kaupa_monthly_df ['timestamp'] = pd.to_datetime(hakaniemen_kaupa_monthly_df['timestamp'])\n",
    "hakaniemen_kaupa_monthly_df['month'] = hakaniemen_kaupa_monthly_df ['timestamp'].dt.strftime('%b')\n",
    "hakaniemen_kaupa_monthly_df.head()"
   ]
  },
  {
   "cell_type": "code",
   "execution_count": null,
   "id": "8c7e4741",
   "metadata": {},
   "outputs": [],
   "source": [
    "# Plot the line diagram for the monthly electricity consumption\n",
    "sns.lineplot(x=hakaniemen_kaupa_monthly_df['month'], y=hakaniemen_kaupa_monthly_df['value'], data=hakaniemen_kaupa_monthly_df)\n",
    "plt.show()"
   ]
  },
  {
   "cell_type": "markdown",
   "id": "21a1054d",
   "metadata": {},
   "source": [
    "### District cooling Energy data"
   ]
  },
  {
   "cell_type": "code",
   "execution_count": null,
   "id": "ea2a1b59",
   "metadata": {},
   "outputs": [],
   "source": []
  },
  {
   "cell_type": "code",
   "execution_count": null,
   "id": "a807f1d8",
   "metadata": {},
   "outputs": [],
   "source": []
  },
  {
   "cell_type": "code",
   "execution_count": null,
   "id": "3973b01d",
   "metadata": {},
   "outputs": [],
   "source": []
  },
  {
   "cell_type": "code",
   "execution_count": null,
   "id": "c753ffc5",
   "metadata": {},
   "outputs": [],
   "source": []
  },
  {
   "cell_type": "code",
   "execution_count": null,
   "id": "a363dade",
   "metadata": {},
   "outputs": [],
   "source": [
    "def get_dailyly_consumption(\n",
    "    record=None,\n",
    "    search_string=None,\n",
    "    reporting_group=None,\n",
    "    start_time=None,\n",
    "    end_time=None,\n",
    "    Normalization=True,\n",
    "    version=None\n",
    "):\n",
    "    # get a dictionary of all possible arguement\n",
    "    all_args = locals()\n",
    "    \n",
    "    #fiter out the set arguements\n",
    "    set_args = {k: v for k,v in all_args.items() if v is not None and k !='Normalization'}# and k != 'Normalization'\n",
    "    \n",
    "    # get a list of all values from the dict \"set_args\"\n",
    "    set_args_list = list(set_args.values())\n",
    "    \n",
    "    if 'PropertyCode' in list(set_args.values()):\n",
    "        #construct the url for API access\n",
    "        url = 'https://helsinki-openapi.nuuka.cloud/api/v{}/EnergyData/Daily/ListByProperty?Record={}&SearchString={}&ReportingGroup={}&StartTime={}&EndTime={}'\n",
    "        a1,b1,c1,d1,e1,f1 = set_args_list[5],set_args_list[0],set_args_list[1],set_args_list[2],set_args_list[3],set_args_list[4]\n",
    "        access_link1 = url.format(a1,b1,c1,d1,e1,f1)\n",
    "        response1 = requests.get(access_link1)\n",
    "        data1 = response1.text\n",
    "        data_df1 = pd.read_json(data1)\n",
    "        return data_df1\n",
    "        \n",
    "    else:\n",
    "        \n",
    "        #construct the url for API access\n",
    "        record_1 = set_args_list[1].replace(\" \",\"%20\")\n",
    "        url = 'https://helsinki-openapi.nuuka.cloud/api/v{}/EnergyData/Daily/ListByProperty?Record={}&SearchString={}&ReportingGroup={}&StartTime={}&EndTime={}'\n",
    "        a2,b2,c2,d2,e2,f2 = set_args_list[5],set_args_list[0],record_1,set_args_list[2],set_args_list[3],set_args_list[4]\n",
    "        access_link2 = url.format(a2,b2,c2,d2,e2,f2)\n",
    "        response2 = requests.get(access_link2)\n",
    "        data2 = response2.text\n",
    "        data_df2 = pd.read_json(data2)\n",
    "        return data_df2"
   ]
  },
  {
   "cell_type": "code",
   "execution_count": null,
   "id": "81c8eebd",
   "metadata": {},
   "outputs": [],
   "source": [
    "def get_monthly_consumption(\n",
    "    record=None,\n",
    "    search_string=None,\n",
    "    reporting_group=None,\n",
    "    start_time=None,\n",
    "    end_time=None,\n",
    "    Normalization=True,\n",
    "    version=None\n",
    "):\n",
    "    # get a dictionary of all possible arguement\n",
    "    all_args = locals()\n",
    "    \n",
    "    #fiter out the set arguements\n",
    "    set_args = {k: v for k,v in all_args.items() if v is not None and k !='Normalization'}# and k != 'Normalization'\n",
    "    \n",
    "    # get a list of all values from the dict \"set_args\"\n",
    "    set_args_list = list(set_args.values())\n",
    "    \n",
    "    if 'PropertyCode' in list(set_args.values()):\n",
    "        #construct the url for API access\n",
    "        url = 'https://helsinki-openapi.nuuka.cloud/api/v{}/EnergyData/Monthly/ListByProperty?Record={}&SearchString={}&ReportingGroup={}&StartTime={}&EndTime={}'\n",
    "        a1,b1,c1,d1,e1,f1 = set_args_list[5],set_args_list[0],set_args_list[1],set_args_list[2],set_args_list[3],set_args_list[4]\n",
    "        access_link1 = url.format(a1,b1,c1,d1,e1,f1)\n",
    "        response1 = requests.get(access_link1)\n",
    "        data1 = response1.text\n",
    "        data_df1 = pd.read_json(data1)\n",
    "        return data_df1\n",
    "        \n",
    "    else:\n",
    "        \n",
    "        #construct the url for API access\n",
    "        record_1 = set_args_list[1].replace(\" \",\"%20\")\n",
    "        url = 'https://helsinki-openapi.nuuka.cloud/api/v{}/EnergyData/Monthly/ListByProperty?Record={}&SearchString={}&ReportingGroup={}&StartTime={}&EndTime={}'\n",
    "        a2,b2,c2,d2,e2,f2 = set_args_list[5],set_args_list[0],record_1,set_args_list[2],set_args_list[3],set_args_list[4]\n",
    "        access_link2 = url.format(a2,b2,c2,d2,e2,f2)\n",
    "        response2 = requests.get(access_link2)\n",
    "        data2 = response2.text\n",
    "        data_df2 = pd.read_json(data2)\n",
    "        return data_df2"
   ]
  },
  {
   "cell_type": "code",
   "execution_count": null,
   "id": "76a5bba6",
   "metadata": {},
   "outputs": [],
   "source": [
    "def get_hourly_consumption(\n",
    "    record=None,\n",
    "    search_string=None,\n",
    "    reporting_group=None,\n",
    "    start_time=None,\n",
    "    end_time=None,\n",
    "    Normalization=True,\n",
    "    version=None\n",
    "):\n",
    "    # get a dictionary of all possible arguement\n",
    "    all_args = locals()\n",
    "    \n",
    "    #fiter out the set arguements\n",
    "    set_args = {k: v for k,v in all_args.items() if v is not None and k !='Normalization'}# and k != 'Normalization'\n",
    "    \n",
    "    # get a list of all values from the dict \"set_args\"\n",
    "    set_args_list = list(set_args.values())\n",
    "    \n",
    "    if 'PropertyCode' in list(set_args.values()):\n",
    "        #construct the url for API access\n",
    "        url = 'https://helsinki-openapi.nuuka.cloud/api/v{}/EnergyData/Hourly/ListByProperty?Record={}&SearchString={}&ReportingGroup={}&StartTime={}&EndTime={}'\n",
    "        a1,b1,c1,d1,e1,f1 = set_args_list[5],set_args_list[0],set_args_list[1],set_args_list[2],set_args_list[3],set_args_list[4]\n",
    "        access_link1 = url.format(a1,b1,c1,d1,e1,f1)\n",
    "        response1 = requests.get(access_link1)\n",
    "        data1 = response1.text\n",
    "        data_df1 = pd.read_json(data1)\n",
    "        return data_df1\n",
    "        \n",
    "    else:\n",
    "        \n",
    "        #construct the url for API access\n",
    "        record_1 = set_args_list[1].replace(\" \",\"%20\")\n",
    "        url = 'https://helsinki-openapi.nuuka.cloud/api/v{}/EnergyData/Hourly/ListByProperty?Record={}&SearchString={}&ReportingGroup={}&StartTime={}&EndTime={}'\n",
    "        a2,b2,c2,d2,e2,f2 = set_args_list[5],set_args_list[0],record_1,set_args_list[2],set_args_list[3],set_args_list[4]\n",
    "        access_link2 = url.format(a2,b2,c2,d2,e2,f2)\n",
    "        response2 = requests.get(access_link2)\n",
    "        data2 = response2.text\n",
    "        data_df2 = pd.read_json(data2)\n",
    "        return data_df2"
   ]
  },
  {
   "cell_type": "code",
   "execution_count": null,
   "id": "3177ff7f",
   "metadata": {
    "scrolled": true
   },
   "outputs": [],
   "source": [
    "were = get_hourly_consumption(record=\"LocationName\",\n",
    "search_string=\"1000 Hakaniemen kauppahalli\",\n",
    "reporting_group=\"Electricity\",\n",
    "start_time=\"2022-01-01\",\n",
    "end_time=\"2022-12-31\",\n",
    "Normalization=False,\n",
    "version=1.0)"
   ]
  },
  {
   "cell_type": "code",
   "execution_count": null,
   "id": "eeec21dc",
   "metadata": {},
   "outputs": [],
   "source": [
    "print(f\"dataframe shape:{were.shape}\")\n",
    "were.head()"
   ]
  },
  {
   "cell_type": "code",
   "execution_count": null,
   "id": "036228af",
   "metadata": {},
   "outputs": [],
   "source": [
    "def get_list_of_properties(api_url):\n",
    "    property_list = requests.get(api_url)\n",
    "    if property_list.status_code !=200:\n",
    "        print(f\"request error:{property_list.status_code}\")\n",
    "    else:\n",
    "        property_list_data = property_list.text\n",
    "        propt_list_df = pd.read_json(property_list_data)\n",
    "        return propt_list_df      "
   ]
  },
  {
   "cell_type": "code",
   "execution_count": null,
   "id": "f4ff749d",
   "metadata": {},
   "outputs": [],
   "source": [
    "text.replace(\"-\"and\" \",\"%\")\n",
    "if 'PropertyCode' in set_args.keys()\n"
   ]
  },
  {
   "cell_type": "code",
   "execution_count": null,
   "id": "9a909e7f",
   "metadata": {},
   "outputs": [],
   "source": [
    "\n",
    "list_2 = ['lizz', 'bens', 'cols']\n",
    "if 'lizz' in list_2:\n",
    "    print('yes')\n"
   ]
  },
  {
   "cell_type": "code",
   "execution_count": null,
   "id": "0dc09aa4",
   "metadata": {},
   "outputs": [],
   "source": [
    "import os\n",
    "import json\n",
    "import shutil\n",
    "import tarfile\n",
    "import requests\n",
    "import pandas as pd\n",
    "from tqdm import tqdm\n",
    "from io import BytesIO\n",
    "from datetime import datetime\n",
    "#from dotenv import load_dotenv, find_dotenv"
   ]
  },
  {
   "cell_type": "code",
   "execution_count": null,
   "id": "43623654",
   "metadata": {},
   "outputs": [],
   "source": [
    "def get_data_request_as_json(\n",
    "        id=None,\n",
    "        mmsi=None,\n",
    "        longitude=None,\n",
    "        latitude=None,\n",
    "        sog=None,\n",
    "        cog=None,\n",
    "        navstat=None,\n",
    "        rot=None,\n",
    "        posacc=None,\n",
    "        raim=None,\n",
    "        heading=None,\n",
    "        timestamp=None,\n",
    "        timestampexternal=None,\n",
    "        metadata=False\n",
    "):\n",
    "    \"\"\" Convert field constraints into a json data field that the data platform API understands \"\"\"\n",
    "\n",
    "    # Get a dictionary of all possible arguments\n",
    "    all_args = locals()\n",
    "    # Filter out the arguments that are set\n",
    "    set_args = {k: v for k, v in all_args.items() if v is not None and k != 'metadata'}\n",
    "    \n",
    "    return set_args\n",
    "\n",
    "    # load up project environment variables to get the secret API key\n",
    "    #dotenv_path = find_dotenv()\n",
    "    #load_dotenv(dotenv_path)\n",
    "\n",
    "    # Default template\n",
    "   # data = {\n",
    "    #    'meta': {'auth': os.environ.get(\"DATA_PLATFORM_API_KEY\")},\n",
    "    #    'constraints': []"
   ]
  },
  {
   "cell_type": "code",
   "execution_count": null,
   "id": "de2e5654",
   "metadata": {},
   "outputs": [],
   "source": [
    "get_data_request_as_json()"
   ]
  },
  {
   "cell_type": "code",
   "execution_count": null,
   "id": "89f373b1",
   "metadata": {},
   "outputs": [],
   "source": []
  }
 ],
 "metadata": {
  "kernelspec": {
   "display_name": "Python 3 (ipykernel)",
   "language": "python",
   "name": "python3"
  },
  "language_info": {
   "codemirror_mode": {
    "name": "ipython",
    "version": 3
   },
   "file_extension": ".py",
   "mimetype": "text/x-python",
   "name": "python",
   "nbconvert_exporter": "python",
   "pygments_lexer": "ipython3",
   "version": "3.9.17"
  }
 },
 "nbformat": 4,
 "nbformat_minor": 5
}
